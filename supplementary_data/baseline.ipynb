{
 "cells": [
  {
   "cell_type": "markdown",
   "metadata": {},
   "source": [
    "Before starting, you will need to install some packages to reproduce the baseline."
   ]
  },
  {
   "cell_type": "code",
   "execution_count": null,
   "metadata": {
    "ExecuteTime": {
     "end_time": "2022-10-24T07:22:49.282534Z",
     "start_time": "2022-10-24T07:22:35.359325Z"
    }
   },
   "outputs": [],
   "source": [
    "!pip install tqdm\n",
    "!pip install scikit-learn"
   ]
  },
  {
   "cell_type": "code",
   "execution_count": 1,
   "metadata": {
    "ExecuteTime": {
     "end_time": "2022-10-24T07:22:50.448803Z",
     "start_time": "2022-10-24T07:22:49.285830Z"
    }
   },
   "outputs": [],
   "source": [
    "from pathlib import Path\n",
    "from tqdm import tqdm\n",
    "\n",
    "import numpy as np\n",
    "import pandas as pd\n",
    "\n",
    "import matplotlib.pyplot as plt\n",
    "\n",
    "from sklearn.metrics import roc_auc_score\n",
    "from sklearn.linear_model import LogisticRegression\n",
    "from sklearn.model_selection import StratifiedKFold\n",
    "\n",
    "from sklearn.preprocessing import StandardScaler\n",
    "\n",
    "from sklearn.ensemble import RandomForestRegressor"
   ]
  },
  {
   "cell_type": "markdown",
   "metadata": {},
   "source": [
    "# Data architecture"
   ]
  },
  {
   "cell_type": "markdown",
   "metadata": {
    "ExecuteTime": {
     "end_time": "2022-10-20T15:29:41.479814Z",
     "start_time": "2022-10-20T15:29:41.472869Z"
    }
   },
   "source": [
    "After downloading or unzipping the downloaded files, your data tree must have the following architecture in order to properly run the notebook:\n",
    "```\n",
    "your_data_dir/\n",
    "├── train_output.csv\n",
    "├── train_input/\n",
    "│   ├── images/\n",
    "│       ├── ID_001/\n",
    "│           ├── ID_001_tile_000_17_170_43.jpg\n",
    "...\n",
    "│   └── moco_features/\n",
    "│       ├── ID_001.npy\n",
    "...\n",
    "├── test_input/\n",
    "│   ├── images/\n",
    "│       ├── ID_003/\n",
    "│           ├── ID_003_tile_000_16_114_93.jpg\n",
    "...\n",
    "│   └── moco_features/\n",
    "│       ├── ID_003.npy\n",
    "...\n",
    "├── supplementary_data/\n",
    "│   ├── baseline.ipynb\n",
    "│   ├── test_metadata.csv\n",
    "│   └── train_metadata.csv\n",
    "```\n",
    "\n",
    "For instance, `your_data_dir = /storage/DATA_CHALLENGE_ENS_2022/`\n"
   ]
  },
  {
   "cell_type": "markdown",
   "metadata": {},
   "source": [
    "This notebook aims to reproduce the baseline method on this challenge called `MeanPool`. This method consists in a logistic regression learnt on top of tile-level MoCo V2 features averaged over the slides.\n",
    "\n",
    "For a given slide $s$ with $N_s=1000$ tiles and corresponding MoCo V2 features $\\mathbf{K_s} \\in \\mathbb{R}^{(1000,\\,2048)}$, a slide-level average is performed over the tile axis.\n",
    "\n",
    "For $j=1,...,2048$:\n",
    "\n",
    "$$\\overline{\\mathbf{k_s}}(j) = \\frac{1}{N_s} \\sum_{i=1}^{N_s} \\mathbf{K_s}(i, j) $$\n",
    "\n",
    "Thus, the training input data for MeanPool consists of $S_{\\text{train}}=344$ mean feature vectors $\\mathbf{k_s}$, $s=1,...,S_{\\text{train}}$, where $S_{\\text{train}}$ denotes the number of training samples."
   ]
  },
  {
   "cell_type": "code",
   "execution_count": 2,
   "metadata": {},
   "outputs": [],
   "source": [
    "import os\n",
    "import sys\n",
    "sys.path.append('..')"
   ]
  },
  {
   "cell_type": "markdown",
   "metadata": {
    "ExecuteTime": {
     "end_time": "2022-10-20T09:25:58.896288Z",
     "start_time": "2022-10-20T09:25:58.161711Z"
    }
   },
   "source": [
    "## Data loading"
   ]
  },
  {
   "cell_type": "code",
   "execution_count": 3,
   "metadata": {
    "ExecuteTime": {
     "end_time": "2022-10-24T07:22:50.479040Z",
     "start_time": "2022-10-24T07:22:50.450662Z"
    }
   },
   "outputs": [
    {
     "name": "stdout",
     "output_type": "stream",
     "text": [
      "Training data dimensions: (344, 4)\n"
     ]
    },
    {
     "data": {
      "text/html": [
       "<div>\n",
       "<style scoped>\n",
       "    .dataframe tbody tr th:only-of-type {\n",
       "        vertical-align: middle;\n",
       "    }\n",
       "\n",
       "    .dataframe tbody tr th {\n",
       "        vertical-align: top;\n",
       "    }\n",
       "\n",
       "    .dataframe thead th {\n",
       "        text-align: right;\n",
       "    }\n",
       "</style>\n",
       "<table border=\"1\" class=\"dataframe\">\n",
       "  <thead>\n",
       "    <tr style=\"text-align: right;\">\n",
       "      <th></th>\n",
       "      <th>Sample ID</th>\n",
       "      <th>Patient ID</th>\n",
       "      <th>Center ID</th>\n",
       "      <th>Target</th>\n",
       "    </tr>\n",
       "  </thead>\n",
       "  <tbody>\n",
       "    <tr>\n",
       "      <th>0</th>\n",
       "      <td>ID_001.npy</td>\n",
       "      <td>P_001</td>\n",
       "      <td>C_1</td>\n",
       "      <td>0</td>\n",
       "    </tr>\n",
       "    <tr>\n",
       "      <th>1</th>\n",
       "      <td>ID_002.npy</td>\n",
       "      <td>P_002</td>\n",
       "      <td>C_2</td>\n",
       "      <td>1</td>\n",
       "    </tr>\n",
       "    <tr>\n",
       "      <th>2</th>\n",
       "      <td>ID_005.npy</td>\n",
       "      <td>P_005</td>\n",
       "      <td>C_5</td>\n",
       "      <td>0</td>\n",
       "    </tr>\n",
       "    <tr>\n",
       "      <th>3</th>\n",
       "      <td>ID_006.npy</td>\n",
       "      <td>P_006</td>\n",
       "      <td>C_5</td>\n",
       "      <td>0</td>\n",
       "    </tr>\n",
       "    <tr>\n",
       "      <th>4</th>\n",
       "      <td>ID_007.npy</td>\n",
       "      <td>P_007</td>\n",
       "      <td>C_2</td>\n",
       "      <td>1</td>\n",
       "    </tr>\n",
       "  </tbody>\n",
       "</table>\n",
       "</div>"
      ],
      "text/plain": [
       "    Sample ID Patient ID Center ID  Target\n",
       "0  ID_001.npy      P_001       C_1       0\n",
       "1  ID_002.npy      P_002       C_2       1\n",
       "2  ID_005.npy      P_005       C_5       0\n",
       "3  ID_006.npy      P_006       C_5       0\n",
       "4  ID_007.npy      P_007       C_2       1"
      ]
     },
     "execution_count": 3,
     "metadata": {},
     "output_type": "execute_result"
    }
   ],
   "source": [
    "# put your own path to the data root directory (see example in `Data architecture` section)\n",
    "data_dir = Path(\"..\")\n",
    "\n",
    "# load the training and testing data sets\n",
    "train_features_dir = data_dir / \"train_input\" / \"moco_features\"\n",
    "test_features_dir = data_dir / \"test_input\" / \"moco_features\"\n",
    "df_train = pd.read_csv(data_dir  / \"supplementary_data\" / \"train_metadata.csv\")\n",
    "df_test = pd.read_csv(data_dir  / \"supplementary_data\" / \"test_metadata.csv\")\n",
    "\n",
    "# concatenate y_train and df_train\n",
    "y_train = pd.read_csv(data_dir  / \"train_output_76GDcgx.csv\")\n",
    "df_train = df_train.merge(y_train, on=\"Sample ID\")\n",
    "\n",
    "print(f\"Training data dimensions: {df_train.shape}\")  # (344, 4)\n",
    "df_train.head()"
   ]
  },
  {
   "cell_type": "markdown",
   "metadata": {},
   "source": [
    "## Data processing"
   ]
  },
  {
   "cell_type": "markdown",
   "metadata": {},
   "source": [
    "We now load the features matrices $\\mathbf{K_s} \\in \\mathbb{R}^{(1000,\\,2048)}$ for $s=1,...,344$ and perform slide-level averaging. This operation should take at most 5 minutes on your laptop."
   ]
  },
  {
   "cell_type": "code",
   "execution_count": 4,
   "metadata": {
    "ExecuteTime": {
     "end_time": "2022-10-24T07:22:52.890700Z",
     "start_time": "2022-10-24T07:22:50.480795Z"
    }
   },
   "outputs": [
    {
     "name": "stderr",
     "output_type": "stream",
     "text": [
      "100%|██████████████████████████████████████████████████████████████████████████████████████████████████████████████████████████████████████████████████████████████████| 344/344 [00:01<00:00, 272.92it/s]\n"
     ]
    }
   ],
   "source": [
    "X_train = []\n",
    "y_train = []\n",
    "centers_train = []\n",
    "patients_train = []\n",
    "\n",
    "for sample, label, center, patient in tqdm(\n",
    "    df_train[[\"Sample ID\", \"Target\", \"Center ID\", \"Patient ID\"]].values\n",
    "):\n",
    "    # load the coordinates and features (1000, 3+2048)\n",
    "    _features = np.load(train_features_dir / sample)\n",
    "    # get coordinates (zoom level, tile x-coord on the slide, tile y-coord on the slide)\n",
    "    # and the MoCo V2 features\n",
    "    coordinates, features = _features[:, :3], _features[:, 3:]  # Ks\n",
    "    # slide-level averaging\n",
    "    X_train.append(np.mean(features, axis=0))\n",
    "    \n",
    "    #X_train.append(features)\n",
    "    #y_train.append([label]*1000)\n",
    "    y_train.append([label])\n",
    "    centers_train.append(center)\n",
    "    patients_train.append(patient)\n",
    "\n",
    "# convert to numpy arrays\n",
    "X_train = np.array(X_train)\n",
    "y_train = np.array(y_train)\n",
    "centers_train = np.array(centers_train)\n",
    "patients_train = np.array(patients_train)"
   ]
  },
  {
   "cell_type": "code",
   "execution_count": null,
   "metadata": {},
   "outputs": [],
   "source": [
    "SS = StandardScaler()\n",
    "SS.fit(X_train)\n",
    "\n",
    "X_train = SS.transform(X_train)\n",
    "#x_tes"
   ]
  },
  {
   "cell_type": "code",
   "execution_count": null,
   "metadata": {},
   "outputs": [],
   "source": [
    "from sklearn.cluster import DBSCAN\n",
    "\n",
    "\n",
    "\n",
    "\n",
    "X_train_cls = X_train[y_train==1]\n",
    "\n",
    "# Define the DBSCAN model\n",
    "dbscan = DBSCAN(eps=0.3, min_samples=10)\n",
    "\n",
    "# Fit the model to your data\n",
    "dbscan.fit(X_train_cls)\n",
    "\n",
    "# The labels_ attribute of the DBSCAN model contains the cluster labels for each data point\n",
    "labels = dbscan.labels_\n",
    "\n",
    "\n"
   ]
  },
  {
   "cell_type": "code",
   "execution_count": null,
   "metadata": {},
   "outputs": [],
   "source": []
  },
  {
   "cell_type": "code",
   "execution_count": null,
   "metadata": {},
   "outputs": [],
   "source": [
    "dbscan"
   ]
  },
  {
   "cell_type": "markdown",
   "metadata": {},
   "source": []
  },
  {
   "cell_type": "markdown",
   "metadata": {},
   "source": [
    "## 5-fold cross validation"
   ]
  },
  {
   "cell_type": "code",
   "execution_count": 5,
   "metadata": {
    "ExecuteTime": {
     "end_time": "2022-10-24T07:22:52.905566Z",
     "start_time": "2022-10-24T07:22:52.893435Z"
    }
   },
   "outputs": [
    {
     "name": "stdout",
     "output_type": "stream",
     "text": [
      "Training set specifications\n",
      "---------------------------\n",
      "344 unique samples\n",
      "305 unique patients\n",
      "3 unique centers\n"
     ]
    }
   ],
   "source": [
    "# /!\\ we perform splits at the patient level so that all samples from the same patient\n",
    "# are found in the same split\n",
    "\n",
    "patients_unique = np.unique(patients_train)\n",
    "y_unique = np.array(\n",
    "    [np.mean(y_train[patients_train == p]) for p in patients_unique]\n",
    ")\n",
    "centers_unique = np.array(\n",
    "    [centers_train[patients_train == p][0] for p in patients_unique]\n",
    ")\n",
    "\n",
    "print(\n",
    "    \"Training set specifications\\n\"\n",
    "    \"---------------------------\\n\"\n",
    "    f\"{len(X_train)} unique samples\\n\"\n",
    "    f\"{len(patients_unique)} unique patients\\n\"\n",
    "    f\"{len(np.unique(centers_unique))} unique centers\"\n",
    ")"
   ]
  },
  {
   "cell_type": "code",
   "execution_count": 6,
   "metadata": {
    "ExecuteTime": {
     "end_time": "2022-10-24T07:22:54.077640Z",
     "start_time": "2022-10-24T07:22:52.907331Z"
    }
   },
   "outputs": [
    {
     "name": "stderr",
     "output_type": "stream",
     "text": [
      "/opt/homebrew/Caskroom/miniforge/base/envs/owkin/lib/python3.9/site-packages/sklearn/utils/validation.py:1141: DataConversionWarning: A column-vector y was passed when a 1d array was expected. Please change the shape of y to (n_samples, ), for example using ravel().\n",
      "  y = column_or_1d(y, warn=True)\n",
      "/opt/homebrew/Caskroom/miniforge/base/envs/owkin/lib/python3.9/site-packages/sklearn/utils/validation.py:1141: DataConversionWarning: A column-vector y was passed when a 1d array was expected. Please change the shape of y to (n_samples, ), for example using ravel().\n",
      "  y = column_or_1d(y, warn=True)\n",
      "/opt/homebrew/Caskroom/miniforge/base/envs/owkin/lib/python3.9/site-packages/sklearn/utils/validation.py:1141: DataConversionWarning: A column-vector y was passed when a 1d array was expected. Please change the shape of y to (n_samples, ), for example using ravel().\n",
      "  y = column_or_1d(y, warn=True)\n",
      "/opt/homebrew/Caskroom/miniforge/base/envs/owkin/lib/python3.9/site-packages/sklearn/utils/validation.py:1141: DataConversionWarning: A column-vector y was passed when a 1d array was expected. Please change the shape of y to (n_samples, ), for example using ravel().\n",
      "  y = column_or_1d(y, warn=True)\n",
      "/opt/homebrew/Caskroom/miniforge/base/envs/owkin/lib/python3.9/site-packages/sklearn/utils/validation.py:1141: DataConversionWarning: A column-vector y was passed when a 1d array was expected. Please change the shape of y to (n_samples, ), for example using ravel().\n",
      "  y = column_or_1d(y, warn=True)\n",
      "/opt/homebrew/Caskroom/miniforge/base/envs/owkin/lib/python3.9/site-packages/sklearn/utils/validation.py:1141: DataConversionWarning: A column-vector y was passed when a 1d array was expected. Please change the shape of y to (n_samples, ), for example using ravel().\n",
      "  y = column_or_1d(y, warn=True)\n",
      "/opt/homebrew/Caskroom/miniforge/base/envs/owkin/lib/python3.9/site-packages/sklearn/utils/validation.py:1141: DataConversionWarning: A column-vector y was passed when a 1d array was expected. Please change the shape of y to (n_samples, ), for example using ravel().\n",
      "  y = column_or_1d(y, warn=True)\n",
      "/opt/homebrew/Caskroom/miniforge/base/envs/owkin/lib/python3.9/site-packages/sklearn/utils/validation.py:1141: DataConversionWarning: A column-vector y was passed when a 1d array was expected. Please change the shape of y to (n_samples, ), for example using ravel().\n",
      "  y = column_or_1d(y, warn=True)\n",
      "/opt/homebrew/Caskroom/miniforge/base/envs/owkin/lib/python3.9/site-packages/sklearn/utils/validation.py:1141: DataConversionWarning: A column-vector y was passed when a 1d array was expected. Please change the shape of y to (n_samples, ), for example using ravel().\n",
      "  y = column_or_1d(y, warn=True)\n"
     ]
    },
    {
     "name": "stdout",
     "output_type": "stream",
     "text": [
      "AUC on split 0 fold 0: 0.590\n",
      "AUC on split 0 fold 1: 0.490\n",
      "AUC on split 0 fold 2: 0.673\n",
      "AUC on split 0 fold 3: 0.705\n",
      "AUC on split 0 fold 4: 0.536\n",
      "----------------------------\n",
      "AUC on split 1 fold 0: 0.695\n",
      "AUC on split 1 fold 1: 0.667\n",
      "AUC on split 1 fold 2: 0.498\n",
      "AUC on split 1 fold 3: 0.502\n"
     ]
    },
    {
     "name": "stderr",
     "output_type": "stream",
     "text": [
      "/opt/homebrew/Caskroom/miniforge/base/envs/owkin/lib/python3.9/site-packages/sklearn/utils/validation.py:1141: DataConversionWarning: A column-vector y was passed when a 1d array was expected. Please change the shape of y to (n_samples, ), for example using ravel().\n",
      "  y = column_or_1d(y, warn=True)\n",
      "/opt/homebrew/Caskroom/miniforge/base/envs/owkin/lib/python3.9/site-packages/sklearn/utils/validation.py:1141: DataConversionWarning: A column-vector y was passed when a 1d array was expected. Please change the shape of y to (n_samples, ), for example using ravel().\n",
      "  y = column_or_1d(y, warn=True)\n",
      "/opt/homebrew/Caskroom/miniforge/base/envs/owkin/lib/python3.9/site-packages/sklearn/utils/validation.py:1141: DataConversionWarning: A column-vector y was passed when a 1d array was expected. Please change the shape of y to (n_samples, ), for example using ravel().\n",
      "  y = column_or_1d(y, warn=True)\n",
      "/opt/homebrew/Caskroom/miniforge/base/envs/owkin/lib/python3.9/site-packages/sklearn/utils/validation.py:1141: DataConversionWarning: A column-vector y was passed when a 1d array was expected. Please change the shape of y to (n_samples, ), for example using ravel().\n",
      "  y = column_or_1d(y, warn=True)\n",
      "/opt/homebrew/Caskroom/miniforge/base/envs/owkin/lib/python3.9/site-packages/sklearn/utils/validation.py:1141: DataConversionWarning: A column-vector y was passed when a 1d array was expected. Please change the shape of y to (n_samples, ), for example using ravel().\n",
      "  y = column_or_1d(y, warn=True)\n",
      "/opt/homebrew/Caskroom/miniforge/base/envs/owkin/lib/python3.9/site-packages/sklearn/utils/validation.py:1141: DataConversionWarning: A column-vector y was passed when a 1d array was expected. Please change the shape of y to (n_samples, ), for example using ravel().\n",
      "  y = column_or_1d(y, warn=True)\n",
      "/opt/homebrew/Caskroom/miniforge/base/envs/owkin/lib/python3.9/site-packages/sklearn/utils/validation.py:1141: DataConversionWarning: A column-vector y was passed when a 1d array was expected. Please change the shape of y to (n_samples, ), for example using ravel().\n",
      "  y = column_or_1d(y, warn=True)\n",
      "/opt/homebrew/Caskroom/miniforge/base/envs/owkin/lib/python3.9/site-packages/sklearn/utils/validation.py:1141: DataConversionWarning: A column-vector y was passed when a 1d array was expected. Please change the shape of y to (n_samples, ), for example using ravel().\n",
      "  y = column_or_1d(y, warn=True)\n",
      "/opt/homebrew/Caskroom/miniforge/base/envs/owkin/lib/python3.9/site-packages/sklearn/utils/validation.py:1141: DataConversionWarning: A column-vector y was passed when a 1d array was expected. Please change the shape of y to (n_samples, ), for example using ravel().\n",
      "  y = column_or_1d(y, warn=True)\n",
      "/opt/homebrew/Caskroom/miniforge/base/envs/owkin/lib/python3.9/site-packages/sklearn/utils/validation.py:1141: DataConversionWarning: A column-vector y was passed when a 1d array was expected. Please change the shape of y to (n_samples, ), for example using ravel().\n",
      "  y = column_or_1d(y, warn=True)\n"
     ]
    },
    {
     "name": "stdout",
     "output_type": "stream",
     "text": [
      "AUC on split 1 fold 4: 0.558\n",
      "----------------------------\n",
      "AUC on split 2 fold 0: 0.568\n",
      "AUC on split 2 fold 1: 0.730\n",
      "AUC on split 2 fold 2: 0.593\n",
      "AUC on split 2 fold 3: 0.524\n",
      "AUC on split 2 fold 4: 0.517\n",
      "----------------------------\n",
      "AUC on split 3 fold 0: 0.718\n",
      "AUC on split 3 fold 1: 0.661\n",
      "AUC on split 3 fold 2: 0.535\n",
      "AUC on split 3 fold 3: 0.471\n",
      "AUC on split 3 fold 4: 0.447\n",
      "----------------------------\n",
      "AUC on split 4 fold 0: 0.563\n",
      "AUC on split 4 fold 1: 0.535\n",
      "AUC on split 4 fold 2: 0.697\n",
      "AUC on split 4 fold 3: 0.455\n",
      "AUC on split 4 fold 4: 0.607\n",
      "----------------------------\n",
      "5-fold cross-validated AUC averaged over 5 repeats: 0.581 (0.087)\n"
     ]
    },
    {
     "name": "stderr",
     "output_type": "stream",
     "text": [
      "/opt/homebrew/Caskroom/miniforge/base/envs/owkin/lib/python3.9/site-packages/sklearn/utils/validation.py:1141: DataConversionWarning: A column-vector y was passed when a 1d array was expected. Please change the shape of y to (n_samples, ), for example using ravel().\n",
      "  y = column_or_1d(y, warn=True)\n",
      "/opt/homebrew/Caskroom/miniforge/base/envs/owkin/lib/python3.9/site-packages/sklearn/utils/validation.py:1141: DataConversionWarning: A column-vector y was passed when a 1d array was expected. Please change the shape of y to (n_samples, ), for example using ravel().\n",
      "  y = column_or_1d(y, warn=True)\n",
      "/opt/homebrew/Caskroom/miniforge/base/envs/owkin/lib/python3.9/site-packages/sklearn/utils/validation.py:1141: DataConversionWarning: A column-vector y was passed when a 1d array was expected. Please change the shape of y to (n_samples, ), for example using ravel().\n",
      "  y = column_or_1d(y, warn=True)\n",
      "/opt/homebrew/Caskroom/miniforge/base/envs/owkin/lib/python3.9/site-packages/sklearn/utils/validation.py:1141: DataConversionWarning: A column-vector y was passed when a 1d array was expected. Please change the shape of y to (n_samples, ), for example using ravel().\n",
      "  y = column_or_1d(y, warn=True)\n",
      "/opt/homebrew/Caskroom/miniforge/base/envs/owkin/lib/python3.9/site-packages/sklearn/utils/validation.py:1141: DataConversionWarning: A column-vector y was passed when a 1d array was expected. Please change the shape of y to (n_samples, ), for example using ravel().\n",
      "  y = column_or_1d(y, warn=True)\n",
      "/opt/homebrew/Caskroom/miniforge/base/envs/owkin/lib/python3.9/site-packages/sklearn/utils/validation.py:1141: DataConversionWarning: A column-vector y was passed when a 1d array was expected. Please change the shape of y to (n_samples, ), for example using ravel().\n",
      "  y = column_or_1d(y, warn=True)\n"
     ]
    }
   ],
   "source": [
    "aucs = []\n",
    "lrs = []\n",
    "# 5-fold CV is repeated 5 times with different random states\n",
    "for k in range(5):\n",
    "    kfold = StratifiedKFold(5, shuffle=True, random_state=k)\n",
    "    fold = 0\n",
    "    # split is performed at the patient-level\n",
    "    for train_idx_, val_idx_ in kfold.split(patients_unique, y_unique):\n",
    "        # retrieve the indexes of the samples corresponding to the\n",
    "        # patients in `train_idx_` and `test_idx_`\n",
    "        train_idx = np.arange(len(X_train))[\n",
    "            pd.Series(patients_train).isin(patients_unique[train_idx_])\n",
    "        ]\n",
    "        val_idx = np.arange(len(X_train))[\n",
    "            pd.Series(patients_train).isin(patients_unique[val_idx_])\n",
    "        ]\n",
    "        # set the training and validation folds\n",
    "        X_fold_train = X_train[train_idx]\n",
    "        y_fold_train = y_train[train_idx]\n",
    "        X_fold_val = X_train[val_idx]\n",
    "        y_fold_val = y_train[val_idx]\n",
    "        # instantiate the model\n",
    "        lr = LogisticRegression(C=0.01, solver=\"liblinear\")\n",
    "        # fit it\n",
    "        lr.fit(X_fold_train, y_fold_train)\n",
    "        # get the predictions (1-d probability)\n",
    "        preds_val = lr.predict_proba(X_fold_val)[:, 1]\n",
    "        # compute the AUC score using scikit-learn\n",
    "        auc = roc_auc_score(y_fold_val, preds_val)\n",
    "        print(f\"AUC on split {k} fold {fold}: {auc:.3f}\")\n",
    "        aucs.append(auc)\n",
    "        # add the logistic regression to the list of classifiers\n",
    "        lrs.append(lr)\n",
    "        fold += 1\n",
    "    print(\"----------------------------\")\n",
    "print(\n",
    "    f\"5-fold cross-validated AUC averaged over {k+1} repeats: \"\n",
    "    f\"{np.mean(aucs):.3f} ({np.std(aucs):.3f})\"\n",
    ")"
   ]
  },
  {
   "cell_type": "markdown",
   "metadata": {},
   "source": [
    "# Submission"
   ]
  },
  {
   "cell_type": "markdown",
   "metadata": {},
   "source": [
    "Now we evaluate the previous models trained through cross-validation so that to produce a submission file that can directly be uploaded on the data challenge platform."
   ]
  },
  {
   "cell_type": "markdown",
   "metadata": {},
   "source": [
    "## Data processing"
   ]
  },
  {
   "cell_type": "code",
   "execution_count": 7,
   "metadata": {
    "ExecuteTime": {
     "end_time": "2022-10-24T07:22:54.987815Z",
     "start_time": "2022-10-24T07:22:54.079916Z"
    }
   },
   "outputs": [
    {
     "name": "stderr",
     "output_type": "stream",
     "text": [
      "100%|██████████████████████████████████████████████████████████████████████████████████████████████████████████████████████████████████████████████████████████████████| 149/149 [00:00<00:00, 244.75it/s]\n"
     ]
    }
   ],
   "source": [
    "X_test = []\n",
    "\n",
    "# load the data from `df_test` (~ 1 minute)\n",
    "for sample in tqdm(df_test[\"Sample ID\"].values):\n",
    "    _features = np.load(test_features_dir / sample)\n",
    "    coordinates, features = _features[:, :3], _features[:, 3:]\n",
    "    X_test.append(np.mean(features, axis=0))\n",
    "\n",
    "X_test = np.array(X_test)"
   ]
  },
  {
   "cell_type": "markdown",
   "metadata": {
    "ExecuteTime": {
     "end_time": "2022-10-20T08:17:35.617554Z",
     "start_time": "2022-10-20T08:17:35.603562Z"
    }
   },
   "source": [
    "## Inference"
   ]
  },
  {
   "cell_type": "code",
   "execution_count": 8,
   "metadata": {
    "ExecuteTime": {
     "end_time": "2022-10-24T07:22:55.043255Z",
     "start_time": "2022-10-24T07:22:54.989274Z"
    }
   },
   "outputs": [],
   "source": [
    "preds_test = 0\n",
    "# loop over the classifiers\n",
    "for lr in lrs:\n",
    "    preds_test += lr.predict_proba(X_test)[:, 1]\n",
    "# and take the average (ensembling technique)\n",
    "preds_test = preds_test / len(lrs)"
   ]
  },
  {
   "cell_type": "code",
   "execution_count": 13,
   "metadata": {},
   "outputs": [
    {
     "data": {
      "text/plain": [
       "(149, 2048)"
      ]
     },
     "execution_count": 13,
     "metadata": {},
     "output_type": "execute_result"
    }
   ],
   "source": [
    "X_test.shape"
   ]
  },
  {
   "cell_type": "code",
   "execution_count": 11,
   "metadata": {},
   "outputs": [
    {
     "data": {
      "text/plain": [
       "(149,)"
      ]
     },
     "execution_count": 11,
     "metadata": {},
     "output_type": "execute_result"
    }
   ],
   "source": [
    "preds_test.shape"
   ]
  },
  {
   "cell_type": "markdown",
   "metadata": {},
   "source": [
    "## Saving predictions"
   ]
  },
  {
   "cell_type": "code",
   "execution_count": 9,
   "metadata": {
    "ExecuteTime": {
     "end_time": "2022-10-24T07:22:55.098571Z",
     "start_time": "2022-10-24T07:22:55.044975Z"
    }
   },
   "outputs": [
    {
     "data": {
      "text/html": [
       "<div>\n",
       "<style scoped>\n",
       "    .dataframe tbody tr th:only-of-type {\n",
       "        vertical-align: middle;\n",
       "    }\n",
       "\n",
       "    .dataframe tbody tr th {\n",
       "        vertical-align: top;\n",
       "    }\n",
       "\n",
       "    .dataframe thead th {\n",
       "        text-align: right;\n",
       "    }\n",
       "</style>\n",
       "<table border=\"1\" class=\"dataframe\">\n",
       "  <thead>\n",
       "    <tr style=\"text-align: right;\">\n",
       "      <th></th>\n",
       "      <th>Sample ID</th>\n",
       "      <th>Target</th>\n",
       "    </tr>\n",
       "  </thead>\n",
       "  <tbody>\n",
       "    <tr>\n",
       "      <th>0</th>\n",
       "      <td>ID_003.npy</td>\n",
       "      <td>0.423755</td>\n",
       "    </tr>\n",
       "    <tr>\n",
       "      <th>1</th>\n",
       "      <td>ID_004.npy</td>\n",
       "      <td>0.418803</td>\n",
       "    </tr>\n",
       "    <tr>\n",
       "      <th>2</th>\n",
       "      <td>ID_008.npy</td>\n",
       "      <td>0.414833</td>\n",
       "    </tr>\n",
       "    <tr>\n",
       "      <th>3</th>\n",
       "      <td>ID_009.npy</td>\n",
       "      <td>0.417029</td>\n",
       "    </tr>\n",
       "    <tr>\n",
       "      <th>4</th>\n",
       "      <td>ID_010.npy</td>\n",
       "      <td>0.384043</td>\n",
       "    </tr>\n",
       "  </tbody>\n",
       "</table>\n",
       "</div>"
      ],
      "text/plain": [
       "    Sample ID    Target\n",
       "0  ID_003.npy  0.423755\n",
       "1  ID_004.npy  0.418803\n",
       "2  ID_008.npy  0.414833\n",
       "3  ID_009.npy  0.417029\n",
       "4  ID_010.npy  0.384043"
      ]
     },
     "execution_count": 9,
     "metadata": {},
     "output_type": "execute_result"
    }
   ],
   "source": [
    "submission = pd.DataFrame(\n",
    "    {\"Sample ID\": df_test[\"Sample ID\"].values, \"Target\": preds_test}\n",
    ").sort_values(\n",
    "    \"Sample ID\"\n",
    ")  # extra step to sort the sample IDs\n",
    "\n",
    "# sanity checks\n",
    "assert all(submission[\"Target\"].between(0, 1)), \"`Target` values must be in [0, 1]\"\n",
    "assert submission.shape == (149, 2), \"Your submission file must be of shape (149, 2)\"\n",
    "assert list(submission.columns) == [\n",
    "    \"Sample ID\",\n",
    "    \"Target\",\n",
    "], \"Your submission file must have columns `Sample ID` and `Target`\"\n",
    "\n",
    "# save the submission as a csv file\n",
    "submission.to_csv(data_dir / \"benchmark_test_output.csv\", index=None)\n",
    "submission.head()"
   ]
  },
  {
   "cell_type": "markdown",
   "metadata": {},
   "source": [
    "# Dealing with images"
   ]
  },
  {
   "cell_type": "markdown",
   "metadata": {},
   "source": [
    "The following code aims to load and manipulate the images provided as part of  this challenge."
   ]
  },
  {
   "cell_type": "markdown",
   "metadata": {},
   "source": [
    "## Scanning images paths on disk"
   ]
  },
  {
   "cell_type": "markdown",
   "metadata": {},
   "source": [
    "This operation can take up to 5 minutes."
   ]
  },
  {
   "cell_type": "code",
   "execution_count": null,
   "metadata": {
    "ExecuteTime": {
     "end_time": "2022-10-24T07:23:00.263580Z",
     "start_time": "2022-10-24T07:22:55.100342Z"
    }
   },
   "outputs": [],
   "source": [
    "train_images_dir = data_dir / \"train_input\" / \"images\"\n",
    "train_images_files = list(train_images_dir.rglob(\"*.jpg\"))\n",
    "\n",
    "test_images_dir = data_dir / \"test_input\" / \"images\"\n",
    "test_images_files = list(test_images_dir.rglob(\"*.jpg\"))\n",
    "\n",
    "print(\n",
    "    f\"Number of images\\n\"\n",
    "    \"-----------------\\n\"\n",
    "    f\"Train: {len(train_images_files)}\\n\" # 344 x 1000 = 344,000 tiles\n",
    "    f\"Test: {len(test_images_files)}\\n\"  # 149 x 1000 = 149,000 tiles\n",
    "    f\"Total: {len(train_images_files) + len(test_images_files)}\\n\"  # 493 x 1000 = 493,000 tiles\n",
    ")"
   ]
  },
  {
   "cell_type": "markdown",
   "metadata": {
    "ExecuteTime": {
     "end_time": "2022-10-20T10:16:48.078600Z",
     "start_time": "2022-10-20T10:16:47.948127Z"
    }
   },
   "source": [
    "## Reading"
   ]
  },
  {
   "cell_type": "markdown",
   "metadata": {},
   "source": [
    "Now we can load some of the `.jpg` images for a given sample, say `ID_001`."
   ]
  },
  {
   "cell_type": "code",
   "execution_count": null,
   "metadata": {
    "ExecuteTime": {
     "end_time": "2022-10-24T07:23:00.381225Z",
     "start_time": "2022-10-24T07:23:00.267047Z"
    }
   },
   "outputs": [],
   "source": [
    "ID_001_tiles = [p for p in train_images_files if 'ID_001' in p.name]"
   ]
  },
  {
   "cell_type": "code",
   "execution_count": null,
   "metadata": {
    "ExecuteTime": {
     "end_time": "2022-10-24T07:23:01.973155Z",
     "start_time": "2022-10-24T07:23:00.382760Z"
    }
   },
   "outputs": [],
   "source": [
    "fig, axes = plt.subplots(5, 5)\n",
    "fig.set_size_inches(12, 12)\n",
    "\n",
    "for i, img_file in enumerate(ID_001_tiles[:25]):\n",
    "    # get the metadata from the file path\n",
    "    _, metadata = str(img_file).split(\"tile_\")\n",
    "    id_tile, level, x, y = metadata[:-4].split(\"_\")\n",
    "    img = plt.imread(img_file)\n",
    "    ax = axes[i//5, i%5]\n",
    "    ax.imshow(img)\n",
    "    ax.set_xticks([])\n",
    "    ax.set_yticks([])\n",
    "    ax.set_title(f\"Tile {id_tile} ({x}, {y})\")\n",
    "plt.show()"
   ]
  },
  {
   "cell_type": "markdown",
   "metadata": {},
   "source": [
    "## Mapping with features"
   ]
  },
  {
   "cell_type": "markdown",
   "metadata": {},
   "source": [
    "Note that the coordinates in the features matrices and tiles number are aligned."
   ]
  },
  {
   "cell_type": "code",
   "execution_count": null,
   "metadata": {
    "ExecuteTime": {
     "end_time": "2022-10-24T07:23:01.984327Z",
     "start_time": "2022-10-24T07:23:01.974933Z"
    }
   },
   "outputs": [],
   "source": [
    "sample = \"ID_001.npy\"\n",
    "_features = np.load(train_features_dir / sample)\n",
    "coordinates, features = _features[:, :3], _features[:, 3:]\n",
    "print(\"xy features coordinates\")\n",
    "coordinates[:10, 1:].astype(int)"
   ]
  },
  {
   "cell_type": "code",
   "execution_count": null,
   "metadata": {
    "ExecuteTime": {
     "end_time": "2022-10-24T07:23:01.990342Z",
     "start_time": "2022-10-24T07:23:01.985926Z"
    }
   },
   "outputs": [],
   "source": [
    "print(\n",
    "    \"Tiles numbering and features coordinates\\n\"\n",
    ")\n",
    "[tile.name for tile in ID_001_tiles[:10]]"
   ]
  },
  {
   "cell_type": "code",
   "execution_count": null,
   "metadata": {},
   "outputs": [],
   "source": []
  }
 ],
 "metadata": {
  "kernelspec": {
   "display_name": "Python 3 (ipykernel)",
   "language": "python",
   "name": "python3"
  },
  "language_info": {
   "codemirror_mode": {
    "name": "ipython",
    "version": 3
   },
   "file_extension": ".py",
   "mimetype": "text/x-python",
   "name": "python",
   "nbconvert_exporter": "python",
   "pygments_lexer": "ipython3",
   "version": "3.9.15"
  },
  "latex_envs": {
   "LaTeX_envs_menu_present": true,
   "autoclose": false,
   "autocomplete": true,
   "bibliofile": "biblio.bib",
   "cite_by": "apalike",
   "current_citInitial": 1,
   "eqLabelWithNumbers": true,
   "eqNumInitial": 1,
   "hotkeys": {
    "equation": "Ctrl-E",
    "itemize": "Ctrl-I"
   },
   "labels_anchors": false,
   "latex_user_defs": false,
   "report_style_numbering": false,
   "user_envs_cfg": false
  },
  "toc": {
   "base_numbering": 1,
   "nav_menu": {},
   "number_sections": false,
   "sideBar": true,
   "skip_h1_title": false,
   "title_cell": "Table of Contents",
   "title_sidebar": "Contents",
   "toc_cell": false,
   "toc_position": {},
   "toc_section_display": true,
   "toc_window_display": false
  },
  "vscode": {
   "interpreter": {
    "hash": "7a94448db244ef66a46905fab890aa1fba47fe15402067e31f6061b9147bcc96"
   }
  }
 },
 "nbformat": 4,
 "nbformat_minor": 2
}
