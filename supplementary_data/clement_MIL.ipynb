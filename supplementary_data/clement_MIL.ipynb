{
 "cells": [
  {
   "cell_type": "markdown",
   "metadata": {},
   "source": [
    "Before starting, you will need to install some packages to reproduce the baseline."
   ]
  },
  {
   "cell_type": "code",
   "execution_count": 19,
   "metadata": {
    "ExecuteTime": {
     "end_time": "2022-10-24T07:22:49.282534Z",
     "start_time": "2022-10-24T07:22:35.359325Z"
    }
   },
   "outputs": [
    {
     "name": "stdout",
     "output_type": "stream",
     "text": [
      "Requirement already satisfied: tqdm in /Users/clementdesroches/opt/anaconda3/lib/python3.9/site-packages (4.64.0)\n",
      "^C\n",
      "\u001b[31mERROR: Operation cancelled by user\u001b[0m\u001b[31m\n",
      "\u001b[0m\u001b[33mWARNING: There was an error checking the latest version of pip.\u001b[0m\u001b[33m\n",
      "\u001b[0mRequirement already satisfied: scikit-learn in /Users/clementdesroches/opt/anaconda3/lib/python3.9/site-packages (1.0.2)\n",
      "Requirement already satisfied: numpy>=1.14.6 in /Users/clementdesroches/opt/anaconda3/lib/python3.9/site-packages (from scikit-learn) (1.21.5)\n",
      "Requirement already satisfied: threadpoolctl>=2.0.0 in /Users/clementdesroches/opt/anaconda3/lib/python3.9/site-packages (from scikit-learn) (2.2.0)\n",
      "Requirement already satisfied: scipy>=1.1.0 in /Users/clementdesroches/opt/anaconda3/lib/python3.9/site-packages (from scikit-learn) (1.7.3)\n",
      "Requirement already satisfied: joblib>=0.11 in /Users/clementdesroches/opt/anaconda3/lib/python3.9/site-packages (from scikit-learn) (1.1.0)\n",
      "\u001b[33mWARNING: There was an error checking the latest version of pip.\u001b[0m\u001b[33m\n",
      "\u001b[0m"
     ]
    }
   ],
   "source": [
    "!pip install tqdm\n",
    "!pip install scikit-learn"
   ]
  },
  {
   "cell_type": "code",
   "execution_count": 2,
   "metadata": {
    "ExecuteTime": {
     "end_time": "2022-10-24T07:22:50.448803Z",
     "start_time": "2022-10-24T07:22:49.285830Z"
    }
   },
   "outputs": [],
   "source": [
    "from pathlib import Path\n",
    "from tqdm import tqdm\n",
    "\n",
    "import numpy as np\n",
    "import pandas as pd\n",
    "\n",
    "import matplotlib.pyplot as plt\n",
    "\n",
    "from sklearn.metrics import roc_auc_score\n",
    "from sklearn.linear_model import LogisticRegression\n",
    "from sklearn.ensemble import RandomForestClassifier\n",
    "from sklearn.model_selection import StratifiedKFold"
   ]
  },
  {
   "cell_type": "markdown",
   "metadata": {},
   "source": [
    "# Data architecture"
   ]
  },
  {
   "cell_type": "markdown",
   "metadata": {
    "ExecuteTime": {
     "end_time": "2022-10-20T15:29:41.479814Z",
     "start_time": "2022-10-20T15:29:41.472869Z"
    }
   },
   "source": [
    "After downloading or unzipping the downloaded files, your data tree must have the following architecture in order to properly run the notebook:\n",
    "```\n",
    "your_data_dir/\n",
    "├── train_output.csv\n",
    "├── train_input/\n",
    "│   ├── images/\n",
    "│       ├── ID_001/\n",
    "│           ├── ID_001_tile_000_17_170_43.jpg\n",
    "...\n",
    "│   └── moco_features/\n",
    "│       ├── ID_001.npy\n",
    "...\n",
    "├── test_input/\n",
    "│   ├── images/\n",
    "│       ├── ID_003/\n",
    "│           ├── ID_003_tile_000_16_114_93.jpg\n",
    "...\n",
    "│   └── moco_features/\n",
    "│       ├── ID_003.npy\n",
    "...\n",
    "├── supplementary_data/\n",
    "│   ├── baseline.ipynb\n",
    "│   ├── test_metadata.csv\n",
    "│   └── train_metadata.csv\n",
    "```\n",
    "\n",
    "For instance, `your_data_dir = /storage/DATA_CHALLENGE_ENS_2022/`\n"
   ]
  },
  {
   "cell_type": "markdown",
   "metadata": {},
   "source": [
    "This notebook aims to reproduce the baseline method on this challenge called `MeanPool`. This method consists in a logistic regression learnt on top of tile-level MoCo V2 features averaged over the slides.\n",
    "\n",
    "For a given slide $s$ with $N_s=1000$ tiles and corresponding MoCo V2 features $\\mathbf{K_s} \\in \\mathbb{R}^{(1000,\\,2048)}$, a slide-level average is performed over the tile axis.\n",
    "\n",
    "For $j=1,...,2048$:\n",
    "\n",
    "$$\\overline{\\mathbf{k_s}}(j) = \\frac{1}{N_s} \\sum_{i=1}^{N_s} \\mathbf{K_s}(i, j) $$\n",
    "\n",
    "Thus, the training input data for MeanPool consists of $S_{\\text{train}}=344$ mean feature vectors $\\mathbf{k_s}$, $s=1,...,S_{\\text{train}}$, where $S_{\\text{train}}$ denotes the number of training samples."
   ]
  },
  {
   "cell_type": "markdown",
   "metadata": {
    "ExecuteTime": {
     "end_time": "2022-10-20T09:25:58.896288Z",
     "start_time": "2022-10-20T09:25:58.161711Z"
    }
   },
   "source": [
    "## Data loading"
   ]
  },
  {
   "cell_type": "code",
   "execution_count": 3,
   "metadata": {
    "ExecuteTime": {
     "end_time": "2022-10-24T07:22:50.479040Z",
     "start_time": "2022-10-24T07:22:50.450662Z"
    }
   },
   "outputs": [
    {
     "name": "stdout",
     "output_type": "stream",
     "text": [
      "Training data dimensions: (344, 4)\n"
     ]
    },
    {
     "data": {
      "text/html": [
       "<div>\n",
       "<style scoped>\n",
       "    .dataframe tbody tr th:only-of-type {\n",
       "        vertical-align: middle;\n",
       "    }\n",
       "\n",
       "    .dataframe tbody tr th {\n",
       "        vertical-align: top;\n",
       "    }\n",
       "\n",
       "    .dataframe thead th {\n",
       "        text-align: right;\n",
       "    }\n",
       "</style>\n",
       "<table border=\"1\" class=\"dataframe\">\n",
       "  <thead>\n",
       "    <tr style=\"text-align: right;\">\n",
       "      <th></th>\n",
       "      <th>Sample ID</th>\n",
       "      <th>Patient ID</th>\n",
       "      <th>Center ID</th>\n",
       "      <th>Target</th>\n",
       "    </tr>\n",
       "  </thead>\n",
       "  <tbody>\n",
       "    <tr>\n",
       "      <th>0</th>\n",
       "      <td>ID_001.npy</td>\n",
       "      <td>P_001</td>\n",
       "      <td>C_1</td>\n",
       "      <td>0</td>\n",
       "    </tr>\n",
       "    <tr>\n",
       "      <th>1</th>\n",
       "      <td>ID_002.npy</td>\n",
       "      <td>P_002</td>\n",
       "      <td>C_2</td>\n",
       "      <td>1</td>\n",
       "    </tr>\n",
       "    <tr>\n",
       "      <th>2</th>\n",
       "      <td>ID_005.npy</td>\n",
       "      <td>P_005</td>\n",
       "      <td>C_5</td>\n",
       "      <td>0</td>\n",
       "    </tr>\n",
       "    <tr>\n",
       "      <th>3</th>\n",
       "      <td>ID_006.npy</td>\n",
       "      <td>P_006</td>\n",
       "      <td>C_5</td>\n",
       "      <td>0</td>\n",
       "    </tr>\n",
       "    <tr>\n",
       "      <th>4</th>\n",
       "      <td>ID_007.npy</td>\n",
       "      <td>P_007</td>\n",
       "      <td>C_2</td>\n",
       "      <td>1</td>\n",
       "    </tr>\n",
       "  </tbody>\n",
       "</table>\n",
       "</div>"
      ],
      "text/plain": [
       "    Sample ID Patient ID Center ID  Target\n",
       "0  ID_001.npy      P_001       C_1       0\n",
       "1  ID_002.npy      P_002       C_2       1\n",
       "2  ID_005.npy      P_005       C_5       0\n",
       "3  ID_006.npy      P_006       C_5       0\n",
       "4  ID_007.npy      P_007       C_2       1"
      ]
     },
     "execution_count": 3,
     "metadata": {},
     "output_type": "execute_result"
    }
   ],
   "source": [
    "# put your own path to the data root directory (see example in `Data architecture` section)\n",
    "data_dir = Path(\"/Users/clementdesroches/Documents/MINES_3A/owkin_data_challenge\")\n",
    "\n",
    "# load the training and testing data sets\n",
    "train_features_dir = data_dir / \"train_input\" / \"moco_features\"\n",
    "test_features_dir = data_dir / \"test_input\" / \"moco_features\"\n",
    "df_train = pd.read_csv(data_dir  / \"supplementary_data\" / \"train_metadata.csv\")\n",
    "df_test = pd.read_csv(data_dir  / \"supplementary_data\" / \"test_metadata.csv\")\n",
    "\n",
    "# concatenate y_train and df_train\n",
    "y_train = pd.read_csv(data_dir  / \"train_output.csv\")\n",
    "df_train = df_train.merge(y_train, on=\"Sample ID\")\n",
    "\n",
    "print(f\"Training data dimensions: {df_train.shape}\")  # (344, 4)\n",
    "df_train.head()"
   ]
  },
  {
   "cell_type": "markdown",
   "metadata": {},
   "source": [
    "## Data processing"
   ]
  },
  {
   "cell_type": "markdown",
   "metadata": {},
   "source": [
    "We now load the features matrices $\\mathbf{K_s} \\in \\mathbb{R}^{(1000,\\,2048)}$ for $s=1,...,344$ and perform slide-level averaging. This operation should take at most 5 minutes on your laptop."
   ]
  },
  {
   "cell_type": "code",
   "execution_count": 4,
   "metadata": {
    "ExecuteTime": {
     "end_time": "2022-10-24T07:22:52.890700Z",
     "start_time": "2022-10-24T07:22:50.480795Z"
    }
   },
   "outputs": [
    {
     "name": "stderr",
     "output_type": "stream",
     "text": [
      "100%|██████████| 344/344 [00:03<00:00, 94.69it/s] \n"
     ]
    }
   ],
   "source": [
    "X_train = []\n",
    "y_train = []\n",
    "centers_train = []\n",
    "patients_train = []\n",
    "\n",
    "for sample, label, center, patient in tqdm(\n",
    "    df_train[[\"Sample ID\", \"Target\", \"Center ID\", \"Patient ID\"]].values\n",
    "):\n",
    "    # load the coordinates and features (1000, 3+2048)\n",
    "    _features = np.load(train_features_dir / sample)\n",
    "    # get coordinates (zoom level, tile x-coord on the slide, tile y-coord on the slide)\n",
    "    # and the MoCo V2 features\n",
    "    coordinates, features = _features[:, :3], _features[:, 3:]  # Ks\n",
    "    # slide-level averaging\n",
    "    X_train.append(features)\n",
    "    y_train.append(label)\n",
    "    centers_train.append(center)\n",
    "    patients_train.append(patient)\n",
    "\n",
    "# convert to numpy arrays\n",
    "X_train = np.array(X_train)\n",
    "y_train = np.array(y_train)\n",
    "centers_train = np.array(centers_train)\n",
    "patients_train = np.array(patients_train)"
   ]
  },
  {
   "cell_type": "code",
   "execution_count": 5,
   "metadata": {},
   "outputs": [
    {
     "name": "stdout",
     "output_type": "stream",
     "text": [
      "X_train shape: (344, 1000, 2048)\n"
     ]
    }
   ],
   "source": [
    "print(f\"X_train shape: {X_train.shape}\")  # (344, 1000, 2048)\n",
    "\n",
    "# X_train = X_train.reshape(X_train.shape[0], X_train.shape[2],  X_train.shape[1])\n",
    "# print(f\"X_train shape: {X_train.shape}\")  # (344, 2048, 1000)\n"
   ]
  },
  {
   "cell_type": "code",
   "execution_count": 23,
   "metadata": {},
   "outputs": [],
   "source": [
    "import torch\n",
    "import torch.nn as nn\n",
    "import torch.nn.functional as F\n",
    "from torch.utils.data import Dataset, DataLoader\n",
    "\n",
    "class SoftMaxMeanSimple(torch.nn.Module):\n",
    "    def __init__(self, n = 2048, n_inst = 1000, dim=1):\n",
    "        \"\"\"\n",
    "        if dim==1:\n",
    "            given a tensor `x` with dimensions [N * M],\n",
    "            where M -- dimensionality of the featur vector\n",
    "                       (number of features per instance)\n",
    "                  N -- number of instances\n",
    "            initialize with `AggModule(M)`\n",
    "            returns:\n",
    "            - weighted result: [M]\n",
    "            - gate: [N]\n",
    "        if dim==0:\n",
    "            ...\n",
    "        \"\"\"\n",
    "        super(SoftMaxMeanSimple, self).__init__()\n",
    "        self.dim = dim\n",
    "        self.gate = torch.nn.Softmax(dim=self.dim)      \n",
    "        self.mdl_instance_transform = nn.Sequential(\n",
    "                            nn.Linear(n, 10),\n",
    "                            nn.LeakyReLU(),\n",
    "                            nn.Linear(10, n),\n",
    "                            nn.LeakyReLU(),\n",
    "                            )\n",
    "    def forward(self, x):\n",
    "        z = self.mdl_instance_transform(x)\n",
    "        z = torch.sum(z, 2)\n",
    "        gate_ = self.gate(z)\n",
    "        ## reshaping gate duplicating last dim 2048 times\n",
    "        gate_ = gate_.unsqueeze(2).repeat(1, 1, 2048)\n",
    "        # shape = x.shape\n",
    "        # x2 = x.reshape(shape[0], shape[2], shape[1])\n",
    "        ## ponderated sum\n",
    "        res = x * gate_\n",
    "        res = torch.sum(res, 1)\n",
    "        return res, gate_\n",
    "\n",
    "class LogisticRegression(torch.nn.Module):\n",
    "    def __init__(self, n=2048, n_out=1):\n",
    "        super(LogisticRegression, self).__init__()\n",
    "        self.linear = torch.nn.Linear(n, n_out)\n",
    "        self.drop = torch.nn.Dropout(0.25)\n",
    "        self.scoring = torch.nn.Softmax() if n_out>1 else torch.nn.Sigmoid()\n",
    "\n",
    "    def forward(self, x):\n",
    "        z = self.linear(x)\n",
    "        z = self.drop(z)\n",
    "        y_pred = self.scoring(z)\n",
    "        return y_pred\n",
    "\n",
    "    \n",
    "def regularization_loss(params,\n",
    "                        reg_factor = 0.005,\n",
    "                        reg_alpha = 0.5):\n",
    "    params = [pp for pp in params if len(pp.shape)>1]\n",
    "    l1_reg = nn.L1Loss()\n",
    "    l2_reg = nn.MSELoss()\n",
    "    loss_reg =0\n",
    "    for pp in params:\n",
    "        loss_reg+=reg_factor*((1-reg_alpha)*l1_reg(pp, target=torch.zeros_like(pp)) +\\\n",
    "                           reg_alpha*l2_reg(pp, target=torch.zeros_like(pp)))\n",
    "    return loss_reg\n",
    "\n",
    "\n",
    "class MIL_NN(torch.nn.Module):\n",
    "\n",
    "    def __init__(self, n=2048,  \n",
    "                 n_classes=1, \n",
    "                 dropout=0.1,\n",
    "                 agg = None,\n",
    "                 scoring=None,\n",
    "                ):\n",
    "        super(MIL_NN, self).__init__()\n",
    "        self.agg = agg if agg is not None else SoftMaxMeanSimple(n)\n",
    "        self.bag_model = LogisticRegression(n, n_classes)\n",
    "\n",
    "        \n",
    "    def forward(self, bag_features, bag_lbls=None):\n",
    "        \"\"\"\n",
    "        bag_feature is an aggregated vector of 512 features\n",
    "        bag_att is a gate vector of n_inst instances\n",
    "        bag_lbl is a vector a labels\n",
    "        figure out batches\n",
    "        \"\"\"\n",
    "        bag_agg, bag_att = self.agg(bag_features)\n",
    "        y_pred = self.bag_model(bag_agg)\n",
    "        return y_pred"
   ]
  },
  {
   "cell_type": "code",
   "execution_count": 22,
   "metadata": {},
   "outputs": [],
   "source": [
    "## train val split\n",
    "from sklearn.model_selection import train_test_split\n",
    "X_train1, X_val1, y_train1, y_val1 = train_test_split(X_train, y_train, test_size=0.2, random_state=42)\n",
    "\n",
    "X_train_2 = torch.from_numpy(X_train1).float()\n",
    "y_train_2 = torch.from_numpy(y_train1).float()\n",
    "\n",
    "X_val_2 = torch.from_numpy(X_val1).float()\n",
    "y_val_2 = torch.from_numpy(y_val1).float()\n",
    "\n",
    "model = MIL_NN()\n",
    "\n",
    "\n",
    "\n",
    "def train_model(epoch):\n",
    "    # clearing the Gradients of the model parameters\n",
    "    optimizer.zero_grad()\n",
    "\n",
    "    # prediction for training and validation set\n",
    "    output_train = model(X_train_2)\n",
    "    output_val = model(X_val_2)\n",
    "\n",
    "    ## shape is (34, 1) -> (34)\n",
    "    output_train = output_train.squeeze()\n",
    "    output_val = output_val.squeeze()\n",
    "\n",
    "    # computing the training and validation loss\n",
    "    loss_train = criterion(output_train, y_train_2)\n",
    "    train_losses.append(loss_train.detach().numpy())\n",
    "    train_acc.append(roc_auc_score(y_train_2, output_train.detach().numpy()))\n",
    "    loss_val = criterion(output_val, y_val_2)\n",
    "    val_losses.append(loss_val.detach().numpy())\n",
    "    val_acc.append(roc_auc_score(y_val_2, output_val.detach().numpy()))\n",
    "\n",
    "    loss_train.backward()\n",
    "    optimizer.step()\n",
    "    tr_loss = loss_train.item()\n",
    "    if epoch%1 == 0:\n",
    "        # printing the validation loss\n",
    "        print('Epoch : ',epoch+1, '\\t', 'loss :', loss_train, '\\t', 'acc :', train_acc[-1], '\\t', 'val_loss :', loss_val, '\\t', 'val_acc :', val_acc[-1])"
   ]
  },
  {
   "cell_type": "code",
   "execution_count": 24,
   "metadata": {},
   "outputs": [
    {
     "data": {
      "text/plain": [
       "(torch.Size([275, 1000, 2048]),\n",
       " torch.Size([69, 1000, 2048]),\n",
       " torch.Size([275]),\n",
       " torch.Size([69]))"
      ]
     },
     "execution_count": 24,
     "metadata": {},
     "output_type": "execute_result"
    }
   ],
   "source": [
    "X_train_2.shape, X_val_2.shape, y_train_2.shape, y_val_2.shape"
   ]
  },
  {
   "cell_type": "code",
   "execution_count": 25,
   "metadata": {},
   "outputs": [],
   "source": [
    "# X_train_2 = X_train_2.reshape(34, 2048, 1000)\n",
    "# X_val_2 = X_val_2.reshape(310, 2048, 1000)"
   ]
  },
  {
   "cell_type": "code",
   "execution_count": 27,
   "metadata": {},
   "outputs": [
    {
     "name": "stdout",
     "output_type": "stream",
     "text": [
      "lr : 0.1\n",
      "torch.Size([275, 1000, 2048])\n",
      "torch.Size([275, 1000, 2048])\n",
      "torch.Size([69, 1000, 2048])\n",
      "torch.Size([69, 1000, 2048])\n",
      "Epoch :  1 \t loss : tensor(0.6891, grad_fn=<BinaryCrossEntropyBackward0>) \t acc : 0.48459056519804183 \t val_loss : tensor(0.6867, grad_fn=<BinaryCrossEntropyBackward0>) \t val_acc : 0.41865079365079366\n",
      "lr : 0.1\n",
      "torch.Size([275, 1000, 2048])\n",
      "torch.Size([275, 1000, 2048])\n",
      "torch.Size([69, 1000, 2048])\n",
      "torch.Size([69, 1000, 2048])\n",
      "Epoch :  2 \t loss : tensor(3.5938, grad_fn=<BinaryCrossEntropyBackward0>) \t acc : 0.5598019581664442 \t val_loss : tensor(2.6855, grad_fn=<BinaryCrossEntropyBackward0>) \t val_acc : 0.47718253968253976\n",
      "lr : 0.1\n",
      "torch.Size([275, 1000, 2048])\n",
      "torch.Size([275, 1000, 2048])\n",
      "torch.Size([69, 1000, 2048])\n",
      "torch.Size([69, 1000, 2048])\n",
      "Epoch :  3 \t loss : tensor(1.0783, grad_fn=<BinaryCrossEntropyBackward0>) \t acc : 0.5658655985758789 \t val_loss : tensor(0.9583, grad_fn=<BinaryCrossEntropyBackward0>) \t val_acc : 0.49107142857142855\n",
      "lr : 0.1\n",
      "torch.Size([275, 1000, 2048])\n",
      "torch.Size([275, 1000, 2048])\n",
      "torch.Size([69, 1000, 2048])\n",
      "torch.Size([69, 1000, 2048])\n",
      "Epoch :  4 \t loss : tensor(2.0278, grad_fn=<BinaryCrossEntropyBackward0>) \t acc : 0.5028093012906096 \t val_loss : tensor(2.1821, grad_fn=<BinaryCrossEntropyBackward0>) \t val_acc : 0.5347222222222222\n",
      "lr : 0.1\n",
      "torch.Size([275, 1000, 2048])\n",
      "torch.Size([275, 1000, 2048])\n",
      "torch.Size([69, 1000, 2048])\n",
      "torch.Size([69, 1000, 2048])\n",
      "Epoch :  5 \t loss : tensor(1.5805, grad_fn=<BinaryCrossEntropyBackward0>) \t acc : 0.545004450378282 \t val_loss : tensor(1.6421, grad_fn=<BinaryCrossEntropyBackward0>) \t val_acc : 0.6011904761904762\n",
      "lr : 0.1\n",
      "torch.Size([275, 1000, 2048])\n",
      "torch.Size([275, 1000, 2048])\n",
      "torch.Size([69, 1000, 2048])\n",
      "torch.Size([69, 1000, 2048])\n",
      "Epoch :  6 \t loss : tensor(0.7993, grad_fn=<BinaryCrossEntropyBackward0>) \t acc : 0.5457276368491322 \t val_loss : tensor(0.8085, grad_fn=<BinaryCrossEntropyBackward0>) \t val_acc : 0.5049603174603174\n",
      "lr : 0.1\n",
      "torch.Size([275, 1000, 2048])\n",
      "torch.Size([275, 1000, 2048])\n",
      "torch.Size([69, 1000, 2048])\n",
      "torch.Size([69, 1000, 2048])\n",
      "Epoch :  7 \t loss : tensor(1.2080, grad_fn=<BinaryCrossEntropyBackward0>) \t acc : 0.47413217623497994 \t val_loss : tensor(1.0402, grad_fn=<BinaryCrossEntropyBackward0>) \t val_acc : 0.5426587301587302\n",
      "lr : 0.1\n",
      "torch.Size([275, 1000, 2048])\n",
      "torch.Size([275, 1000, 2048])\n",
      "torch.Size([69, 1000, 2048])\n",
      "torch.Size([69, 1000, 2048])\n",
      "Epoch :  8 \t loss : tensor(1.0581, grad_fn=<BinaryCrossEntropyBackward0>) \t acc : 0.5255340453938585 \t val_loss : tensor(0.9233, grad_fn=<BinaryCrossEntropyBackward0>) \t val_acc : 0.503968253968254\n",
      "lr : 0.1\n",
      "torch.Size([275, 1000, 2048])\n",
      "torch.Size([275, 1000, 2048])\n",
      "torch.Size([69, 1000, 2048])\n",
      "torch.Size([69, 1000, 2048])\n",
      "Epoch :  9 \t loss : tensor(0.8568, grad_fn=<BinaryCrossEntropyBackward0>) \t acc : 0.5116822429906542 \t val_loss : tensor(0.7549, grad_fn=<BinaryCrossEntropyBackward0>) \t val_acc : 0.521329365079365\n",
      "lr : 0.1\n",
      "torch.Size([275, 1000, 2048])\n",
      "torch.Size([275, 1000, 2048])\n",
      "torch.Size([69, 1000, 2048])\n",
      "torch.Size([69, 1000, 2048])\n",
      "Epoch :  10 \t loss : tensor(1.0560, grad_fn=<BinaryCrossEntropyBackward0>) \t acc : 0.523336671117045 \t val_loss : tensor(1.1419, grad_fn=<BinaryCrossEntropyBackward0>) \t val_acc : 0.4875992063492064\n"
     ]
    }
   ],
   "source": [
    "import numpy as np\n",
    "device = torch.device(\"cuda:0\" if torch.cuda.is_available() else \"cpu\")\n",
    "\n",
    "## degressive learning rate\n",
    "def get_lr(optimizer):\n",
    "    for param_group in optimizer.param_groups:\n",
    "        return param_group['lr']\n",
    "\n",
    "\n",
    "# model:\n",
    "\n",
    "# params you need to specify:\n",
    "n_epochs = 10\n",
    "lr0 = 0.1\n",
    "optimizer = torch.optim.Adam(model.parameters(), lr=lr0)\n",
    "criterion = torch.nn.BCELoss()\n",
    "\n",
    "train_losses = []\n",
    "# accuracy on training set\n",
    "train_acc = []\n",
    "# empty list to store validation losses\n",
    "val_losses = []\n",
    "\n",
    "val_acc = []\n",
    "\n",
    "if torch.cuda.is_available():\n",
    "    net = model.cuda()\n",
    "    criterion = criterion.cuda()\n",
    "# training the model\n",
    "for epoch in range(n_epochs):\n",
    "    #learning rate decay\n",
    "    lr = get_lr(optimizer)\n",
    "    print('lr :', lr)\n",
    "    train_model(epoch)\n",
    "    "
   ]
  },
  {
   "cell_type": "code",
   "execution_count": 36,
   "metadata": {},
   "outputs": [],
   "source": [
    "train_losses_array = np.array(train_losses)\n",
    "val_losses_array = np.array(val_losses)"
   ]
  },
  {
   "cell_type": "code",
   "execution_count": 37,
   "metadata": {},
   "outputs": [
    {
     "data": {
      "image/png": "[encoded data removed]",
      "text/plain": [
       "<Figure size 432x288 with 1 Axes>"
      ]
     },
     "metadata": {
      "needs_background": "light"
     },
     "output_type": "display_data"
    }
   ],
   "source": [
    "plt.plot(train_losses_array, label='train')\n",
    "plt.plot(val_losses_array, label='val')\n",
    "plt.legend()\n",
    "plt.show()"
   ]
  },
  {
   "cell_type": "code",
   "execution_count": 38,
   "metadata": {},
   "outputs": [
    {
     "data": {
      "image/png": "[encoded data removed]",
      "text/plain": [
       "<Figure size 432x288 with 1 Axes>"
      ]
     },
     "metadata": {
      "needs_background": "light"
     },
     "output_type": "display_data"
    }
   ],
   "source": [
    "plt.plot(train_acc, label='train')\n",
    "plt.plot(val_acc, label='val')\n",
    "plt.legend()\n",
    "plt.show()"
   ]
  },
  {
   "cell_type": "code",
   "execution_count": 35,
   "metadata": {},
   "outputs": [
    {
     "name": "stdout",
     "output_type": "stream",
     "text": [
      "torch.Size([275, 1000, 2048])\n",
      "torch.Size([275, 1000, 2048])\n",
      "torch.Size([69, 1000, 2048])\n",
      "torch.Size([69, 1000, 2048])\n",
      "Epoch :  1 \t loss : tensor(0.8776, grad_fn=<BinaryCrossEntropyBackward0>) \t acc : 0.6264463729417 \t val_loss : tensor(0.9974, grad_fn=<BinaryCrossEntropyBackward0>) \t val_acc : 0.5436507936507937\n",
      "torch.Size([275, 1000, 2048])\n",
      "torch.Size([275, 1000, 2048])\n",
      "torch.Size([69, 1000, 2048])\n",
      "torch.Size([69, 1000, 2048])\n",
      "Epoch :  2 \t loss : tensor(0.6697, grad_fn=<BinaryCrossEntropyBackward0>) \t acc : 0.654539385847797 \t val_loss : tensor(0.8748, grad_fn=<BinaryCrossEntropyBackward0>) \t val_acc : 0.4990079365079365\n",
      "torch.Size([275, 1000, 2048])\n",
      "torch.Size([275, 1000, 2048])\n",
      "torch.Size([69, 1000, 2048])\n",
      "torch.Size([69, 1000, 2048])\n",
      "Epoch :  3 \t loss : tensor(0.8095, grad_fn=<BinaryCrossEntropyBackward0>) \t acc : 0.6425511793502447 \t val_loss : tensor(0.9850, grad_fn=<BinaryCrossEntropyBackward0>) \t val_acc : 0.42361111111111116\n",
      "torch.Size([275, 1000, 2048])\n",
      "torch.Size([275, 1000, 2048])\n",
      "torch.Size([69, 1000, 2048])\n",
      "torch.Size([69, 1000, 2048])\n",
      "Epoch :  4 \t loss : tensor(0.8341, grad_fn=<BinaryCrossEntropyBackward0>) \t acc : 0.6611036938139743 \t val_loss : tensor(0.8804, grad_fn=<BinaryCrossEntropyBackward0>) \t val_acc : 0.5347222222222222\n",
      "torch.Size([275, 1000, 2048])\n",
      "torch.Size([275, 1000, 2048])\n",
      "torch.Size([69, 1000, 2048])\n",
      "torch.Size([69, 1000, 2048])\n",
      "Epoch :  5 \t loss : tensor(0.7642, grad_fn=<BinaryCrossEntropyBackward0>) \t acc : 0.6661103693813974 \t val_loss : tensor(0.8643, grad_fn=<BinaryCrossEntropyBackward0>) \t val_acc : 0.53125\n",
      "torch.Size([275, 1000, 2048])\n",
      "torch.Size([275, 1000, 2048])\n",
      "torch.Size([69, 1000, 2048])\n",
      "torch.Size([69, 1000, 2048])\n",
      "Epoch :  6 \t loss : tensor(0.7043, grad_fn=<BinaryCrossEntropyBackward0>) \t acc : 0.6885013351134847 \t val_loss : tensor(0.9522, grad_fn=<BinaryCrossEntropyBackward0>) \t val_acc : 0.5833333333333333\n",
      "torch.Size([275, 1000, 2048])\n",
      "torch.Size([275, 1000, 2048])\n",
      "torch.Size([69, 1000, 2048])\n",
      "torch.Size([69, 1000, 2048])\n",
      "Epoch :  7 \t loss : tensor(0.7523, grad_fn=<BinaryCrossEntropyBackward0>) \t acc : 0.6840231419670671 \t val_loss : tensor(1.1405, grad_fn=<BinaryCrossEntropyBackward0>) \t val_acc : 0.5699404761904762\n",
      "torch.Size([275, 1000, 2048])\n",
      "torch.Size([275, 1000, 2048])\n",
      "torch.Size([69, 1000, 2048])\n",
      "torch.Size([69, 1000, 2048])\n",
      "Epoch :  8 \t loss : tensor(0.7102, grad_fn=<BinaryCrossEntropyBackward0>) \t acc : 0.7090565198041834 \t val_loss : tensor(1.2257, grad_fn=<BinaryCrossEntropyBackward0>) \t val_acc : 0.490079365079365\n",
      "torch.Size([275, 1000, 2048])\n",
      "torch.Size([275, 1000, 2048])\n",
      "torch.Size([69, 1000, 2048])\n",
      "torch.Size([69, 1000, 2048])\n",
      "Epoch :  9 \t loss : tensor(0.5906, grad_fn=<BinaryCrossEntropyBackward0>) \t acc : 0.7445761014686247 \t val_loss : tensor(0.8524, grad_fn=<BinaryCrossEntropyBackward0>) \t val_acc : 0.5550595238095237\n",
      "torch.Size([275, 1000, 2048])\n",
      "torch.Size([275, 1000, 2048])\n",
      "torch.Size([69, 1000, 2048])\n",
      "torch.Size([69, 1000, 2048])\n",
      "Epoch :  10 \t loss : tensor(0.5508, grad_fn=<BinaryCrossEntropyBackward0>) \t acc : 0.7787049399198932 \t val_loss : tensor(0.8545, grad_fn=<BinaryCrossEntropyBackward0>) \t val_acc : 0.503968253968254\n"
     ]
    }
   ],
   "source": [
    "for epoch in range(n_epochs):\n",
    "    train_model(epoch)"
   ]
  },
  {
   "cell_type": "code",
   "execution_count": 23,
   "metadata": {},
   "outputs": [
    {
     "data": {
      "text/plain": [
       "<All keys matched successfully>"
      ]
     },
     "execution_count": 23,
     "metadata": {},
     "output_type": "execute_result"
    }
   ],
   "source": [
    "# save model\n",
    "torch.save(model.state_dict(), 'model_mil.pt')\n",
    "\n",
    "# load model\n",
    "model.load_state_dict(torch.load('model_mil.pt'))"
   ]
  },
  {
   "cell_type": "code",
   "execution_count": 39,
   "metadata": {},
   "outputs": [
    {
     "name": "stdout",
     "output_type": "stream",
     "text": [
      "torch.Size([275, 1000, 2048])\n",
      "torch.Size([275, 1000, 2048])\n",
      "torch.Size([69, 1000, 2048])\n",
      "torch.Size([69, 1000, 2048])\n",
      "Epoch :  1 \t loss : tensor(0.6121, grad_fn=<BinaryCrossEntropyBackward0>) \t acc : 0.7567311971517579 \t val_loss : tensor(0.8843, grad_fn=<BinaryCrossEntropyBackward0>) \t val_acc : 0.49950396825396826\n",
      "torch.Size([275, 1000, 2048])\n",
      "torch.Size([275, 1000, 2048])\n",
      "torch.Size([69, 1000, 2048])\n",
      "torch.Size([69, 1000, 2048])\n",
      "Epoch :  2 \t loss : tensor(0.6167, grad_fn=<BinaryCrossEntropyBackward0>) \t acc : 0.7570649755229194 \t val_loss : tensor(0.7537, grad_fn=<BinaryCrossEntropyBackward0>) \t val_acc : 0.5887896825396826\n",
      "torch.Size([275, 1000, 2048])\n",
      "torch.Size([275, 1000, 2048])\n",
      "torch.Size([69, 1000, 2048])\n",
      "torch.Size([69, 1000, 2048])\n",
      "Epoch :  3 \t loss : tensor(0.5908, grad_fn=<BinaryCrossEntropyBackward0>) \t acc : 0.7553404539385848 \t val_loss : tensor(0.8370, grad_fn=<BinaryCrossEntropyBackward0>) \t val_acc : 0.5119047619047619\n",
      "torch.Size([275, 1000, 2048])\n",
      "torch.Size([275, 1000, 2048])\n",
      "torch.Size([69, 1000, 2048])\n",
      "torch.Size([69, 1000, 2048])\n",
      "Epoch :  4 \t loss : tensor(0.6070, grad_fn=<BinaryCrossEntropyBackward0>) \t acc : 0.7369270137961726 \t val_loss : tensor(0.7757, grad_fn=<BinaryCrossEntropyBackward0>) \t val_acc : 0.5853174603174603\n",
      "torch.Size([275, 1000, 2048])\n",
      "torch.Size([275, 1000, 2048])\n",
      "torch.Size([69, 1000, 2048])\n",
      "torch.Size([69, 1000, 2048])\n",
      "Epoch :  5 \t loss : tensor(0.5873, grad_fn=<BinaryCrossEntropyBackward0>) \t acc : 0.74783044058745 \t val_loss : tensor(0.7594, grad_fn=<BinaryCrossEntropyBackward0>) \t val_acc : 0.5491071428571429\n",
      "torch.Size([275, 1000, 2048])\n",
      "torch.Size([275, 1000, 2048])\n",
      "torch.Size([69, 1000, 2048])\n",
      "torch.Size([69, 1000, 2048])\n",
      "Epoch :  6 \t loss : tensor(0.5753, grad_fn=<BinaryCrossEntropyBackward0>) \t acc : 0.7499999999999999 \t val_loss : tensor(0.8151, grad_fn=<BinaryCrossEntropyBackward0>) \t val_acc : 0.5248015873015873\n",
      "torch.Size([275, 1000, 2048])\n",
      "torch.Size([275, 1000, 2048])\n",
      "torch.Size([69, 1000, 2048])\n",
      "torch.Size([69, 1000, 2048])\n",
      "Epoch :  7 \t loss : tensor(0.5580, grad_fn=<BinaryCrossEntropyBackward0>) \t acc : 0.7687194036493101 \t val_loss : tensor(0.8307, grad_fn=<BinaryCrossEntropyBackward0>) \t val_acc : 0.5362103174603174\n",
      "torch.Size([275, 1000, 2048])\n",
      "torch.Size([275, 1000, 2048])\n",
      "torch.Size([69, 1000, 2048])\n",
      "torch.Size([69, 1000, 2048])\n",
      "Epoch :  8 \t loss : tensor(0.5114, grad_fn=<BinaryCrossEntropyBackward0>) \t acc : 0.8046283934134402 \t val_loss : tensor(0.8303, grad_fn=<BinaryCrossEntropyBackward0>) \t val_acc : 0.5277777777777778\n",
      "torch.Size([275, 1000, 2048])\n",
      "torch.Size([275, 1000, 2048])\n",
      "torch.Size([69, 1000, 2048])\n",
      "torch.Size([69, 1000, 2048])\n",
      "Epoch :  9 \t loss : tensor(0.5411, grad_fn=<BinaryCrossEntropyBackward0>) \t acc : 0.7735035603026257 \t val_loss : tensor(0.8026, grad_fn=<BinaryCrossEntropyBackward0>) \t val_acc : 0.5317460317460317\n",
      "torch.Size([275, 1000, 2048])\n",
      "torch.Size([275, 1000, 2048])\n",
      "torch.Size([69, 1000, 2048])\n",
      "torch.Size([69, 1000, 2048])\n",
      "Epoch :  10 \t loss : tensor(0.5220, grad_fn=<BinaryCrossEntropyBackward0>) \t acc : 0.8060191366266132 \t val_loss : tensor(0.7345, grad_fn=<BinaryCrossEntropyBackward0>) \t val_acc : 0.5218253968253967\n"
     ]
    }
   ],
   "source": [
    "lr = 1e-3\n",
    "optimizer = torch.optim.Adam(model.parameters(), lr=lr)\n",
    "for epoch in range(n_epochs):\n",
    "    train_model(epoch)"
   ]
  },
  {
   "cell_type": "code",
   "execution_count": 33,
   "metadata": {},
   "outputs": [
    {
     "data": {
      "text/plain": [
       "array(0.69259816, dtype=float32)"
      ]
     },
     "execution_count": 33,
     "metadata": {},
     "output_type": "execute_result"
    }
   ],
   "source": [
    "train_losses"
   ]
  },
  {
   "cell_type": "code",
   "execution_count": 32,
   "metadata": {},
   "outputs": [
    {
     "data": {
      "image/png": "[encoded data removed]",
      "text/plain": [
       "<Figure size 432x288 with 1 Axes>"
      ]
     },
     "metadata": {
      "needs_background": "light"
     },
     "output_type": "display_data"
    }
   ],
   "source": [
    "## viz loss\n",
    "import matplotlib.pyplot as plt\n",
    "# train_losses = train_losses[0].detach().numpy()\n",
    "val_losses = val_losses[0].detach().numpy()\n",
    "plt.plot(train_losses, label='train')\n",
    "plt.plot(val_losses, label='val')\n",
    "plt.legend()\n",
    "plt.show()"
   ]
  },
  {
   "cell_type": "code",
   "execution_count": 13,
   "metadata": {},
   "outputs": [
    {
     "data": {
      "text/plain": [
       "0.6669921875"
      ]
     },
     "execution_count": 13,
     "metadata": {},
     "output_type": "execute_result"
    }
   ],
   "source": [
    "# predict\n",
    "X_to_predict = torch.from_numpy(X_train).float()\n",
    "y_pred = model(X_to_predict)\n",
    "y_pred = y_pred.squeeze()\n",
    "y_pred = y_pred.detach().numpy()\n",
    "\n",
    "# evaluate\n",
    "roc_auc_score(y_train, y_pred)"
   ]
  },
  {
   "cell_type": "markdown",
   "metadata": {},
   "source": [
    "## 5-fold cross validation"
   ]
  },
  {
   "cell_type": "code",
   "execution_count": 39,
   "metadata": {
    "ExecuteTime": {
     "end_time": "2022-10-24T07:22:52.905566Z",
     "start_time": "2022-10-24T07:22:52.893435Z"
    }
   },
   "outputs": [
    {
     "name": "stdout",
     "output_type": "stream",
     "text": [
      "Training set specifications\n",
      "---------------------------\n",
      "344 unique samples\n",
      "305 unique patients\n",
      "3 unique centers\n"
     ]
    }
   ],
   "source": [
    "# /!\\ we perform splits at the patient level so that all samples from the same patient\n",
    "# are found in the same split\n",
    "\n",
    "patients_unique = np.unique(patients_train)\n",
    "y_unique = np.array(\n",
    "    [np.mean(y_train[patients_train == p]) for p in patients_unique]\n",
    ")\n",
    "centers_unique = np.array(\n",
    "    [centers_train[patients_train == p][0] for p in patients_unique]\n",
    ")\n",
    "\n",
    "print(\n",
    "    \"Training set specifications\\n\"\n",
    "    \"---------------------------\\n\"\n",
    "    f\"{len(X_train)} unique samples\\n\"\n",
    "    f\"{len(patients_unique)} unique patients\\n\"\n",
    "    f\"{len(np.unique(centers_unique))} unique centers\"\n",
    ")"
   ]
  },
  {
   "cell_type": "code",
   "execution_count": 40,
   "metadata": {
    "ExecuteTime": {
     "end_time": "2022-10-24T07:22:54.077640Z",
     "start_time": "2022-10-24T07:22:52.907331Z"
    }
   },
   "outputs": [
    {
     "name": "stdout",
     "output_type": "stream",
     "text": [
      "AUC on split 0 fold 0: 0.572\n",
      "AUC on split 0 fold 1: 0.511\n",
      "AUC on split 0 fold 2: 0.512\n",
      "AUC on split 0 fold 3: 0.633\n",
      "AUC on split 0 fold 4: 0.370\n",
      "----------------------------\n",
      "AUC on split 1 fold 0: 0.445\n",
      "AUC on split 1 fold 1: 0.660\n",
      "AUC on split 1 fold 2: 0.431\n",
      "AUC on split 1 fold 3: 0.488\n",
      "AUC on split 1 fold 4: 0.522\n",
      "----------------------------\n",
      "AUC on split 2 fold 0: 0.515\n",
      "AUC on split 2 fold 1: 0.460\n",
      "AUC on split 2 fold 2: 0.533\n",
      "AUC on split 2 fold 3: 0.623\n",
      "AUC on split 2 fold 4: 0.470\n",
      "----------------------------\n",
      "AUC on split 3 fold 0: 0.587\n",
      "AUC on split 3 fold 1: 0.438\n",
      "AUC on split 3 fold 2: 0.519\n",
      "AUC on split 3 fold 3: 0.481\n",
      "AUC on split 3 fold 4: 0.474\n",
      "----------------------------\n",
      "AUC on split 4 fold 0: 0.505\n",
      "AUC on split 4 fold 1: 0.475\n",
      "AUC on split 4 fold 2: 0.509\n",
      "AUC on split 4 fold 3: 0.436\n",
      "AUC on split 4 fold 4: 0.593\n",
      "----------------------------\n",
      "5-fold cross-validated AUC averaged over 5 repeats: 0.511 (0.068)\n"
     ]
    }
   ],
   "source": [
    "from xgboost import XGBClassifier\n",
    "\n",
    "aucs = []\n",
    "lrs = []\n",
    "# 5-fold CV is repeated 5 times with different random states\n",
    "for k in range(5):\n",
    "    kfold = StratifiedKFold(5, shuffle=True, random_state=k)\n",
    "    fold = 0\n",
    "    # split is performed at the patient-level\n",
    "    for train_idx_, val_idx_ in kfold.split(patients_unique, y_unique):\n",
    "        # retrieve the indexes of the samples corresponding to the\n",
    "        # patients in `train_idx_` and `test_idx_`\n",
    "        train_idx = np.arange(len(X_train))[\n",
    "            pd.Series(patients_train).isin(patients_unique[train_idx_])\n",
    "        ]\n",
    "        val_idx = np.arange(len(X_train))[\n",
    "            pd.Series(patients_train).isin(patients_unique[val_idx_])\n",
    "        ]\n",
    "        # set the training and validation folds\n",
    "        X_fold_train = X_train[train_idx]\n",
    "        y_fold_train = y_train[train_idx]\n",
    "        X_fold_val = X_train[val_idx]\n",
    "        y_fold_val = y_train[val_idx]\n",
    "        # instantiate the model\n",
    "        lr = LogisticRegression(C=0.01, solver=\"liblinear\")\n",
    "        # fit it\n",
    "        lr.fit(X_fold_train, y_fold_train)\n",
    "        # get the predictions (1-d probability)\n",
    "        preds_val = lr.predict_proba(X_fold_val)[:, 1]\n",
    "        # compute the AUC score using scikit-learn\n",
    "        auc = roc_auc_score(y_fold_val, preds_val)\n",
    "        print(f\"AUC on split {k} fold {fold}: {auc:.3f}\")\n",
    "        aucs.append(auc)\n",
    "        # add the logistic regression to the list of classifiers\n",
    "        lrs.append(lr)\n",
    "        fold += 1\n",
    "    print(\"----------------------------\")\n",
    "print(\n",
    "    f\"5-fold cross-validated AUC averaged over {k+1} repeats: \"\n",
    "    f\"{np.mean(aucs):.3f} ({np.std(aucs):.3f})\"\n",
    ")"
   ]
  },
  {
   "cell_type": "markdown",
   "metadata": {},
   "source": [
    "# Submission"
   ]
  },
  {
   "cell_type": "markdown",
   "metadata": {},
   "source": [
    "Now we evaluate the previous models trained through cross-validation so that to produce a submission file that can directly be uploaded on the data challenge platform."
   ]
  },
  {
   "cell_type": "markdown",
   "metadata": {},
   "source": [
    "## Data processing"
   ]
  },
  {
   "cell_type": "code",
   "execution_count": 19,
   "metadata": {
    "ExecuteTime": {
     "end_time": "2022-10-24T07:22:54.987815Z",
     "start_time": "2022-10-24T07:22:54.079916Z"
    }
   },
   "outputs": [
    {
     "name": "stderr",
     "output_type": "stream",
     "text": [
      "100%|██████████| 149/149 [00:01<00:00, 130.43it/s]\n"
     ]
    },
    {
     "data": {
      "text/plain": [
       "(149, 1000, 2048)"
      ]
     },
     "execution_count": 19,
     "metadata": {},
     "output_type": "execute_result"
    }
   ],
   "source": [
    "X_test = []\n",
    "\n",
    "# load the data from `df_test` (~ 1 minute)\n",
    "for sample in tqdm(df_test[\"Sample ID\"].values):\n",
    "    _features = np.load(test_features_dir / sample)\n",
    "    coordinates, features = _features[:, :3], _features[:, 3:]\n",
    "    X_test.append(features)\n",
    "\n",
    "X_test = np.array(X_test)\n",
    "X_test.shape"
   ]
  },
  {
   "cell_type": "markdown",
   "metadata": {
    "ExecuteTime": {
     "end_time": "2022-10-20T08:17:35.617554Z",
     "start_time": "2022-10-20T08:17:35.603562Z"
    }
   },
   "source": [
    "## Inference"
   ]
  },
  {
   "cell_type": "code",
   "execution_count": 20,
   "metadata": {},
   "outputs": [],
   "source": [
    "X_test = torch.from_numpy(X_test).float()"
   ]
  },
  {
   "cell_type": "code",
   "execution_count": 21,
   "metadata": {
    "ExecuteTime": {
     "end_time": "2022-10-24T07:22:55.043255Z",
     "start_time": "2022-10-24T07:22:54.989274Z"
    }
   },
   "outputs": [
    {
     "data": {
      "text/plain": [
       "array([0.13798366, 0.2792116 , 0.00773412, 0.03679273, 0.5       ,\n",
       "       0.22684489, 0.5       , 0.06029327, 0.04766197, 0.5       ,\n",
       "       0.04330521, 0.21188088, 0.14984669, 0.9217528 , 0.5       ,\n",
       "       0.2460504 , 0.37499246, 0.5       , 0.51697606, 0.00868678,\n",
       "       0.0097719 , 0.08249706, 0.20083435, 0.5       , 0.0157528 ,\n",
       "       0.32231864, 0.6183469 , 0.10087255, 0.5       , 0.5       ,\n",
       "       0.5       , 0.14838946, 0.48591775, 0.5       , 0.78366107,\n",
       "       0.5       , 0.5       , 0.5       , 0.26762787, 0.41235155,\n",
       "       0.01277913, 0.13810149, 0.11030564, 0.44252777, 0.8178266 ,\n",
       "       0.19061828, 0.12846197, 0.15277494, 0.70782936, 0.03922508,\n",
       "       0.55833   , 0.5       , 0.04536848, 0.17312051, 0.5       ,\n",
       "       0.3809631 , 0.12042338, 0.5       , 0.25740492, 0.39667788,\n",
       "       0.5       , 0.5       , 0.10387964, 0.9880685 , 0.12328187,\n",
       "       0.5082334 , 0.00534274, 0.7907676 , 0.00795839, 0.14874396,\n",
       "       0.49336222, 0.5       , 0.6697827 , 0.08958364, 0.5       ,\n",
       "       0.049603  , 0.0485164 , 0.09516361, 0.5       , 0.6947108 ,\n",
       "       0.5       , 0.01910557, 0.01257722, 0.44281557, 0.45877308,\n",
       "       0.01432138, 0.5       , 0.5       , 0.6759361 , 0.5       ,\n",
       "       0.03302472, 0.6342107 , 0.02609394, 0.5       , 0.47350216,\n",
       "       0.5590993 , 0.04462672, 0.44752035, 0.22535788, 0.04141164,\n",
       "       0.08975708, 0.51279825, 0.99371535, 0.96666235, 0.04540616,\n",
       "       0.01189458, 0.3890056 , 0.5       , 0.13872851, 0.5       ,\n",
       "       0.4306511 , 0.59350234, 0.22370364, 0.00275213, 0.5       ,\n",
       "       0.5       , 0.05714175, 0.88253677, 0.02070634, 0.85814136,\n",
       "       0.5       , 0.17072462, 0.03850602, 0.5       , 0.14748006,\n",
       "       0.5       , 0.5       , 0.30053228, 0.03906913, 0.02406706,\n",
       "       0.14894563, 0.5       , 0.5       , 0.9346436 , 0.5       ,\n",
       "       0.8365819 , 0.05984142, 0.00914546, 0.10632798, 0.08978435,\n",
       "       0.5       , 0.81625885, 0.3763141 , 0.33732918, 0.1814407 ,\n",
       "       0.5       , 0.7317062 , 0.5       , 0.06717563], dtype=float32)"
      ]
     },
     "execution_count": 21,
     "metadata": {},
     "output_type": "execute_result"
    }
   ],
   "source": [
    "preds_test = 0\n",
    "# predict with mil model\n",
    "y_pred = model(X_test)\n",
    "y_pred = y_pred.squeeze()\n",
    "y_pred = y_pred.detach().numpy()\n",
    "y_pred"
   ]
  },
  {
   "cell_type": "markdown",
   "metadata": {},
   "source": [
    "## Saving predictions"
   ]
  },
  {
   "cell_type": "code",
   "execution_count": 22,
   "metadata": {
    "ExecuteTime": {
     "end_time": "2022-10-24T07:22:55.098571Z",
     "start_time": "2022-10-24T07:22:55.044975Z"
    }
   },
   "outputs": [
    {
     "data": {
      "text/html": [
       "<div>\n",
       "<style scoped>\n",
       "    .dataframe tbody tr th:only-of-type {\n",
       "        vertical-align: middle;\n",
       "    }\n",
       "\n",
       "    .dataframe tbody tr th {\n",
       "        vertical-align: top;\n",
       "    }\n",
       "\n",
       "    .dataframe thead th {\n",
       "        text-align: right;\n",
       "    }\n",
       "</style>\n",
       "<table border=\"1\" class=\"dataframe\">\n",
       "  <thead>\n",
       "    <tr style=\"text-align: right;\">\n",
       "      <th></th>\n",
       "      <th>Sample ID</th>\n",
       "      <th>Target</th>\n",
       "    </tr>\n",
       "  </thead>\n",
       "  <tbody>\n",
       "    <tr>\n",
       "      <th>0</th>\n",
       "      <td>ID_003.npy</td>\n",
       "      <td>0</td>\n",
       "    </tr>\n",
       "    <tr>\n",
       "      <th>1</th>\n",
       "      <td>ID_004.npy</td>\n",
       "      <td>0</td>\n",
       "    </tr>\n",
       "    <tr>\n",
       "      <th>2</th>\n",
       "      <td>ID_008.npy</td>\n",
       "      <td>0</td>\n",
       "    </tr>\n",
       "    <tr>\n",
       "      <th>3</th>\n",
       "      <td>ID_009.npy</td>\n",
       "      <td>0</td>\n",
       "    </tr>\n",
       "    <tr>\n",
       "      <th>4</th>\n",
       "      <td>ID_010.npy</td>\n",
       "      <td>0</td>\n",
       "    </tr>\n",
       "  </tbody>\n",
       "</table>\n",
       "</div>"
      ],
      "text/plain": [
       "    Sample ID  Target\n",
       "0  ID_003.npy       0\n",
       "1  ID_004.npy       0\n",
       "2  ID_008.npy       0\n",
       "3  ID_009.npy       0\n",
       "4  ID_010.npy       0"
      ]
     },
     "execution_count": 22,
     "metadata": {},
     "output_type": "execute_result"
    }
   ],
   "source": [
    "submission = pd.DataFrame(\n",
    "    {\"Sample ID\": df_test[\"Sample ID\"].values, \"Target\": preds_test}\n",
    ").sort_values(\n",
    "    \"Sample ID\"\n",
    ")  # extra step to sort the sample IDs\n",
    "\n",
    "# sanity checks\n",
    "assert all(submission[\"Target\"].between(0, 1)), \"`Target` values must be in [0, 1]\"\n",
    "assert submission.shape == (149, 2), \"Your submission file must be of shape (149, 2)\"\n",
    "assert list(submission.columns) == [\n",
    "    \"Sample ID\",\n",
    "    \"Target\",\n",
    "], \"Your submission file must have columns `Sample ID` and `Target`\"\n",
    "\n",
    "# save the submission as a csv file\n",
    "submission.to_csv(data_dir / \"mil_ae.csv\", index=None)\n",
    "submission.head()"
   ]
  },
  {
   "cell_type": "markdown",
   "metadata": {},
   "source": [
    "# Dealing with images"
   ]
  },
  {
   "cell_type": "markdown",
   "metadata": {},
   "source": [
    "The following code aims to load and manipulate the images provided as part of  this challenge."
   ]
  },
  {
   "cell_type": "markdown",
   "metadata": {},
   "source": [
    "## Scanning images paths on disk"
   ]
  },
  {
   "cell_type": "markdown",
   "metadata": {},
   "source": [
    "This operation can take up to 5 minutes."
   ]
  },
  {
   "cell_type": "code",
   "execution_count": null,
   "metadata": {
    "ExecuteTime": {
     "end_time": "2022-10-24T07:23:00.263580Z",
     "start_time": "2022-10-24T07:22:55.100342Z"
    }
   },
   "outputs": [
    {
     "name": "stdout",
     "output_type": "stream",
     "text": [
      "Number of images\n",
      "-----------------\n",
      "Train: 0\n",
      "Test: 0\n",
      "Total: 0\n",
      "\n"
     ]
    }
   ],
   "source": [
    "train_images_dir = data_dir / \"train_input\" / \"images\"\n",
    "train_images_files = list(train_images_dir.rglob(\"*.jpg\"))\n",
    "\n",
    "test_images_dir = data_dir / \"test_input\" / \"images\"\n",
    "test_images_files = list(test_images_dir.rglob(\"*.jpg\"))\n",
    "\n",
    "print(\n",
    "    f\"Number of images\\n\"\n",
    "    \"-----------------\\n\"\n",
    "    f\"Train: {len(train_images_files)}\\n\" # 344 x 1000 = 344,000 tiles\n",
    "    f\"Test: {len(test_images_files)}\\n\"  # 149 x 1000 = 149,000 tiles\n",
    "    f\"Total: {len(train_images_files) + len(test_images_files)}\\n\"  # 493 x 1000 = 493,000 tiles\n",
    ")"
   ]
  },
  {
   "cell_type": "markdown",
   "metadata": {
    "ExecuteTime": {
     "end_time": "2022-10-20T10:16:48.078600Z",
     "start_time": "2022-10-20T10:16:47.948127Z"
    }
   },
   "source": [
    "## Reading"
   ]
  },
  {
   "cell_type": "markdown",
   "metadata": {},
   "source": [
    "Now we can load some of the `.jpg` images for a given sample, say `ID_001`."
   ]
  },
  {
   "cell_type": "code",
   "execution_count": null,
   "metadata": {
    "ExecuteTime": {
     "end_time": "2022-10-24T07:23:00.381225Z",
     "start_time": "2022-10-24T07:23:00.267047Z"
    }
   },
   "outputs": [],
   "source": [
    "ID_001_tiles = [p for p in train_images_files if 'ID_001' in p.name]"
   ]
  },
  {
   "cell_type": "code",
   "execution_count": null,
   "metadata": {
    "ExecuteTime": {
     "end_time": "2022-10-24T07:23:01.973155Z",
     "start_time": "2022-10-24T07:23:00.382760Z"
    }
   },
   "outputs": [
    {
     "data": {
      "image/png": "[encoded data removed]",
      "text/plain": [
       "<Figure size 864x864 with 25 Axes>"
      ]
     },
     "metadata": {
      "needs_background": "light"
     },
     "output_type": "display_data"
    }
   ],
   "source": [
    "fig, axes = plt.subplots(5, 5)\n",
    "fig.set_size_inches(12, 12)\n",
    "\n",
    "for i, img_file in enumerate(ID_001_tiles[:25]):\n",
    "    # get the metadata from the file path\n",
    "    _, metadata = str(img_file).split(\"tile_\")\n",
    "    id_tile, level, x, y = metadata[:-4].split(\"_\")\n",
    "    img = plt.imread(img_file)\n",
    "    ax = axes[i//5, i%5]\n",
    "    ax.imshow(img)\n",
    "    ax.set_xticks([])\n",
    "    ax.set_yticks([])\n",
    "    ax.set_title(f\"Tile {id_tile} ({x}, {y})\")\n",
    "plt.show()"
   ]
  },
  {
   "cell_type": "markdown",
   "metadata": {},
   "source": [
    "## Mapping with features"
   ]
  },
  {
   "cell_type": "markdown",
   "metadata": {},
   "source": [
    "Note that the coordinates in the features matrices and tiles number are aligned."
   ]
  },
  {
   "cell_type": "code",
   "execution_count": null,
   "metadata": {
    "ExecuteTime": {
     "end_time": "2022-10-24T07:23:01.984327Z",
     "start_time": "2022-10-24T07:23:01.974933Z"
    }
   },
   "outputs": [
    {
     "name": "stdout",
     "output_type": "stream",
     "text": [
      "xy features coordinates\n"
     ]
    },
    {
     "data": {
      "text/plain": [
       "array([[170,  43],\n",
       "       [245,  49],\n",
       "       [137, 128],\n",
       "       [218,  40],\n",
       "       [142, 117],\n",
       "       [129,  72],\n",
       "       [129,  88],\n",
       "       [164, 109],\n",
       "       [210,  39],\n",
       "       [222, 100]])"
      ]
     },
     "execution_count": 14,
     "metadata": {},
     "output_type": "execute_result"
    }
   ],
   "source": [
    "sample = \"ID_001.npy\"\n",
    "_features = np.load(train_features_dir / sample)\n",
    "coordinates, features = _features[:, :3], _features[:, 3:]\n",
    "print(\"xy features coordinates\")\n",
    "coordinates[:10, 1:].astype(int)"
   ]
  },
  {
   "cell_type": "code",
   "execution_count": null,
   "metadata": {
    "ExecuteTime": {
     "end_time": "2022-10-24T07:23:01.990342Z",
     "start_time": "2022-10-24T07:23:01.985926Z"
    }
   },
   "outputs": [
    {
     "name": "stdout",
     "output_type": "stream",
     "text": [
      "Tiles numbering and features coordinates\n",
      "\n"
     ]
    },
    {
     "data": {
      "text/plain": [
       "[]"
      ]
     },
     "execution_count": 15,
     "metadata": {},
     "output_type": "execute_result"
    }
   ],
   "source": [
    "print(\n",
    "    \"Tiles numbering and features coordinates\\n\"\n",
    ")\n",
    "[tile.name for tile in ID_001_tiles[:10]]"
   ]
  },
  {
   "cell_type": "code",
   "execution_count": null,
   "metadata": {},
   "outputs": [],
   "source": []
  }
 ],
 "metadata": {
  "kernelspec": {
   "display_name": "base",
   "language": "python",
   "name": "python3"
  },
  "language_info": {
   "codemirror_mode": {
    "name": "ipython",
    "version": 3
   },
   "file_extension": ".py",
   "mimetype": "text/x-python",
   "name": "python",
   "nbconvert_exporter": "python",
   "pygments_lexer": "ipython3",
   "version": "3.9.12"
  },
  "latex_envs": {
   "LaTeX_envs_menu_present": true,
   "autoclose": false,
   "autocomplete": true,
   "bibliofile": "biblio.bib",
   "cite_by": "apalike",
   "current_citInitial": 1,
   "eqLabelWithNumbers": true,
   "eqNumInitial": 1,
   "hotkeys": {
    "equation": "Ctrl-E",
    "itemize": "Ctrl-I"
   },
   "labels_anchors": false,
   "latex_user_defs": false,
   "report_style_numbering": false,
   "user_envs_cfg": false
  },
  "toc": {
   "base_numbering": 1,
   "nav_menu": {},
   "number_sections": false,
   "sideBar": true,
   "skip_h1_title": false,
   "title_cell": "Table of Contents",
   "title_sidebar": "Contents",
   "toc_cell": false,
   "toc_position": {},
   "toc_section_display": true,
   "toc_window_display": false
  },
  "vscode": {
   "interpreter": {
    "hash": "6219597631ec1401981f1fdc620c5b968a7bfbf3673913593fb1c893a41e4615"
   }
  }
 },
 "nbformat": 4,
 "nbformat_minor": 2
}
