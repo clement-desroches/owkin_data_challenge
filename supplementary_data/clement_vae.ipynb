{
 "cells": [
  {
   "cell_type": "markdown",
   "metadata": {},
   "source": [
    "Before starting, you will need to install some packages to reproduce the baseline."
   ]
  },
  {
   "cell_type": "code",
   "execution_count": 19,
   "metadata": {
    "ExecuteTime": {
     "end_time": "2022-10-24T07:22:49.282534Z",
     "start_time": "2022-10-24T07:22:35.359325Z"
    }
   },
   "outputs": [
    {
     "name": "stdout",
     "output_type": "stream",
     "text": [
      "Requirement already satisfied: tqdm in /Users/clementdesroches/opt/anaconda3/lib/python3.9/site-packages (4.64.0)\n",
      "^C\n",
      "\u001b[31mERROR: Operation cancelled by user\u001b[0m\u001b[31m\n",
      "\u001b[0m\u001b[33mWARNING: There was an error checking the latest version of pip.\u001b[0m\u001b[33m\n",
      "\u001b[0mRequirement already satisfied: scikit-learn in /Users/clementdesroches/opt/anaconda3/lib/python3.9/site-packages (1.0.2)\n",
      "Requirement already satisfied: numpy>=1.14.6 in /Users/clementdesroches/opt/anaconda3/lib/python3.9/site-packages (from scikit-learn) (1.21.5)\n",
      "Requirement already satisfied: threadpoolctl>=2.0.0 in /Users/clementdesroches/opt/anaconda3/lib/python3.9/site-packages (from scikit-learn) (2.2.0)\n",
      "Requirement already satisfied: scipy>=1.1.0 in /Users/clementdesroches/opt/anaconda3/lib/python3.9/site-packages (from scikit-learn) (1.7.3)\n",
      "Requirement already satisfied: joblib>=0.11 in /Users/clementdesroches/opt/anaconda3/lib/python3.9/site-packages (from scikit-learn) (1.1.0)\n",
      "\u001b[33mWARNING: There was an error checking the latest version of pip.\u001b[0m\u001b[33m\n",
      "\u001b[0m"
     ]
    }
   ],
   "source": [
    "!pip install tqdm\n",
    "!pip install scikit-learn"
   ]
  },
  {
   "cell_type": "code",
   "execution_count": 18,
   "metadata": {
    "ExecuteTime": {
     "end_time": "2022-10-24T07:22:50.448803Z",
     "start_time": "2022-10-24T07:22:49.285830Z"
    }
   },
   "outputs": [],
   "source": [
    "from pathlib import Path\n",
    "from tqdm import tqdm\n",
    "\n",
    "import numpy as np\n",
    "import pandas as pd\n",
    "\n",
    "import matplotlib.pyplot as plt\n",
    "\n",
    "from sklearn.metrics import roc_auc_score\n",
    "from sklearn.linear_model import LogisticRegression\n",
    "from sklearn.ensemble import RandomForestClassifier\n",
    "from sklearn.model_selection import StratifiedKFold"
   ]
  },
  {
   "cell_type": "markdown",
   "metadata": {},
   "source": [
    "# Data architecture"
   ]
  },
  {
   "cell_type": "markdown",
   "metadata": {
    "ExecuteTime": {
     "end_time": "2022-10-20T15:29:41.479814Z",
     "start_time": "2022-10-20T15:29:41.472869Z"
    }
   },
   "source": [
    "After downloading or unzipping the downloaded files, your data tree must have the following architecture in order to properly run the notebook:\n",
    "```\n",
    "your_data_dir/\n",
    "├── train_output.csv\n",
    "├── train_input/\n",
    "│   ├── images/\n",
    "│       ├── ID_001/\n",
    "│           ├── ID_001_tile_000_17_170_43.jpg\n",
    "...\n",
    "│   └── moco_features/\n",
    "│       ├── ID_001.npy\n",
    "...\n",
    "├── test_input/\n",
    "│   ├── images/\n",
    "│       ├── ID_003/\n",
    "│           ├── ID_003_tile_000_16_114_93.jpg\n",
    "...\n",
    "│   └── moco_features/\n",
    "│       ├── ID_003.npy\n",
    "...\n",
    "├── supplementary_data/\n",
    "│   ├── baseline.ipynb\n",
    "│   ├── test_metadata.csv\n",
    "│   └── train_metadata.csv\n",
    "```\n",
    "\n",
    "For instance, `your_data_dir = /storage/DATA_CHALLENGE_ENS_2022/`\n"
   ]
  },
  {
   "cell_type": "markdown",
   "metadata": {},
   "source": [
    "This notebook aims to reproduce the baseline method on this challenge called `MeanPool`. This method consists in a logistic regression learnt on top of tile-level MoCo V2 features averaged over the slides.\n",
    "\n",
    "For a given slide $s$ with $N_s=1000$ tiles and corresponding MoCo V2 features $\\mathbf{K_s} \\in \\mathbb{R}^{(1000,\\,2048)}$, a slide-level average is performed over the tile axis.\n",
    "\n",
    "For $j=1,...,2048$:\n",
    "\n",
    "$$\\overline{\\mathbf{k_s}}(j) = \\frac{1}{N_s} \\sum_{i=1}^{N_s} \\mathbf{K_s}(i, j) $$\n",
    "\n",
    "Thus, the training input data for MeanPool consists of $S_{\\text{train}}=344$ mean feature vectors $\\mathbf{k_s}$, $s=1,...,S_{\\text{train}}$, where $S_{\\text{train}}$ denotes the number of training samples."
   ]
  },
  {
   "cell_type": "markdown",
   "metadata": {
    "ExecuteTime": {
     "end_time": "2022-10-20T09:25:58.896288Z",
     "start_time": "2022-10-20T09:25:58.161711Z"
    }
   },
   "source": [
    "## Data loading"
   ]
  },
  {
   "cell_type": "code",
   "execution_count": 19,
   "metadata": {
    "ExecuteTime": {
     "end_time": "2022-10-24T07:22:50.479040Z",
     "start_time": "2022-10-24T07:22:50.450662Z"
    }
   },
   "outputs": [
    {
     "name": "stdout",
     "output_type": "stream",
     "text": [
      "Training data dimensions: (344, 4)\n"
     ]
    },
    {
     "data": {
      "text/html": [
       "<div>\n",
       "<style scoped>\n",
       "    .dataframe tbody tr th:only-of-type {\n",
       "        vertical-align: middle;\n",
       "    }\n",
       "\n",
       "    .dataframe tbody tr th {\n",
       "        vertical-align: top;\n",
       "    }\n",
       "\n",
       "    .dataframe thead th {\n",
       "        text-align: right;\n",
       "    }\n",
       "</style>\n",
       "<table border=\"1\" class=\"dataframe\">\n",
       "  <thead>\n",
       "    <tr style=\"text-align: right;\">\n",
       "      <th></th>\n",
       "      <th>Sample ID</th>\n",
       "      <th>Patient ID</th>\n",
       "      <th>Center ID</th>\n",
       "      <th>Target</th>\n",
       "    </tr>\n",
       "  </thead>\n",
       "  <tbody>\n",
       "    <tr>\n",
       "      <th>0</th>\n",
       "      <td>ID_001.npy</td>\n",
       "      <td>P_001</td>\n",
       "      <td>C_1</td>\n",
       "      <td>0</td>\n",
       "    </tr>\n",
       "    <tr>\n",
       "      <th>1</th>\n",
       "      <td>ID_002.npy</td>\n",
       "      <td>P_002</td>\n",
       "      <td>C_2</td>\n",
       "      <td>1</td>\n",
       "    </tr>\n",
       "    <tr>\n",
       "      <th>2</th>\n",
       "      <td>ID_005.npy</td>\n",
       "      <td>P_005</td>\n",
       "      <td>C_5</td>\n",
       "      <td>0</td>\n",
       "    </tr>\n",
       "    <tr>\n",
       "      <th>3</th>\n",
       "      <td>ID_006.npy</td>\n",
       "      <td>P_006</td>\n",
       "      <td>C_5</td>\n",
       "      <td>0</td>\n",
       "    </tr>\n",
       "    <tr>\n",
       "      <th>4</th>\n",
       "      <td>ID_007.npy</td>\n",
       "      <td>P_007</td>\n",
       "      <td>C_2</td>\n",
       "      <td>1</td>\n",
       "    </tr>\n",
       "  </tbody>\n",
       "</table>\n",
       "</div>"
      ],
      "text/plain": [
       "    Sample ID Patient ID Center ID  Target\n",
       "0  ID_001.npy      P_001       C_1       0\n",
       "1  ID_002.npy      P_002       C_2       1\n",
       "2  ID_005.npy      P_005       C_5       0\n",
       "3  ID_006.npy      P_006       C_5       0\n",
       "4  ID_007.npy      P_007       C_2       1"
      ]
     },
     "execution_count": 19,
     "metadata": {},
     "output_type": "execute_result"
    }
   ],
   "source": [
    "# put your own path to the data root directory (see example in `Data architecture` section)\n",
    "data_dir = Path(\"/Users/clementdesroches/Documents/MINES_3A/owkin_data_challenge\")\n",
    "\n",
    "# load the training and testing data sets\n",
    "train_features_dir = data_dir / \"train_input\" / \"moco_features\"\n",
    "test_features_dir = data_dir / \"test_input\" / \"moco_features\"\n",
    "df_train = pd.read_csv(data_dir  / \"supplementary_data\" / \"train_metadata.csv\")\n",
    "df_test = pd.read_csv(data_dir  / \"supplementary_data\" / \"test_metadata.csv\")\n",
    "\n",
    "# concatenate y_train and df_train\n",
    "y_train = pd.read_csv(data_dir  / \"train_output.csv\")\n",
    "df_train = df_train.merge(y_train, on=\"Sample ID\")\n",
    "\n",
    "print(f\"Training data dimensions: {df_train.shape}\")  # (344, 4)\n",
    "df_train.head()"
   ]
  },
  {
   "cell_type": "markdown",
   "metadata": {},
   "source": [
    "## Data processing"
   ]
  },
  {
   "cell_type": "markdown",
   "metadata": {},
   "source": [
    "We now load the features matrices $\\mathbf{K_s} \\in \\mathbb{R}^{(1000,\\,2048)}$ for $s=1,...,344$ and perform slide-level averaging. This operation should take at most 5 minutes on your laptop."
   ]
  },
  {
   "cell_type": "code",
   "execution_count": 20,
   "metadata": {
    "ExecuteTime": {
     "end_time": "2022-10-24T07:22:52.890700Z",
     "start_time": "2022-10-24T07:22:50.480795Z"
    }
   },
   "outputs": [
    {
     "name": "stderr",
     "output_type": "stream",
     "text": [
      "100%|██████████| 344/344 [00:03<00:00, 95.89it/s] \n"
     ]
    }
   ],
   "source": [
    "X_train = []\n",
    "y_train = []\n",
    "centers_train = []\n",
    "patients_train = []\n",
    "\n",
    "for sample, label, center, patient in tqdm(\n",
    "    df_train[[\"Sample ID\", \"Target\", \"Center ID\", \"Patient ID\"]].values\n",
    "):\n",
    "    # load the coordinates and features (1000, 3+2048)\n",
    "    _features = np.load(train_features_dir / sample)\n",
    "    # get coordinates (zoom level, tile x-coord on the slide, tile y-coord on the slide)\n",
    "    # and the MoCo V2 features\n",
    "    coordinates, features = _features[:, :3], _features[:, 3:]  # Ks\n",
    "    # slide-level averaging\n",
    "    X_train.append(features)\n",
    "    y_train.append(label)\n",
    "    centers_train.append(center)\n",
    "    patients_train.append(patient)\n",
    "\n",
    "# convert to numpy arrays\n",
    "X_train = np.array(X_train)\n",
    "y_train = np.array(y_train)\n",
    "centers_train = np.array(centers_train)\n",
    "patients_train = np.array(patients_train)"
   ]
  },
  {
   "cell_type": "code",
   "execution_count": 21,
   "metadata": {},
   "outputs": [
    {
     "name": "stdout",
     "output_type": "stream",
     "text": [
      "X_train shape: (344, 1000, 2048)\n"
     ]
    }
   ],
   "source": [
    "print(f\"X_train shape: {X_train.shape}\")  # (344, 1000, 2048)\n",
    "\n",
    "# X_train = X_train.reshape(X_train.shape[0], X_train.shape[2],  X_train.shape[1])\n",
    "# print(f\"X_train shape: {X_train.shape}\")  # (344, 2048, 1000)\n"
   ]
  },
  {
   "cell_type": "code",
   "execution_count": 56,
   "metadata": {},
   "outputs": [],
   "source": [
    "## Keep negative samples only\n",
    "X_train_neg = X_train[y_train == 0]\n",
    "y_train_neg = y_train[y_train == 0]\n",
    "\n",
    "## Keep positive samples only\n",
    "X_train_pos = X_train[y_train == 1]\n",
    "y_train_pos = y_train[y_train == 1]\n"
   ]
  },
  {
   "cell_type": "code",
   "execution_count": 57,
   "metadata": {},
   "outputs": [
    {
     "data": {
      "text/plain": [
       "(216000,)"
      ]
     },
     "execution_count": 57,
     "metadata": {},
     "output_type": "execute_result"
    }
   ],
   "source": [
    "X_train_neg_flatten = []\n",
    "y_train_neg_flatten = []\n",
    "for i in range(X_train_neg.shape[0]):\n",
    "    for j in range(X_train_neg.shape[1]):\n",
    "        X_train_neg_flatten.append(X_train_neg[i][j])\n",
    "        y_train_neg_flatten.append(y_train_neg[i])\n",
    "X_train_neg_flatten = np.array(X_train_neg_flatten)\n",
    "y_train_neg_flatten = np.array(y_train_neg_flatten)\n",
    "y_train_neg_flatten.shape\n"
   ]
  },
  {
   "cell_type": "code",
   "execution_count": 58,
   "metadata": {},
   "outputs": [],
   "source": [
    "\n",
    "# tensor conversion\n",
    "import torch\n",
    "from sklearn.model_selection import train_test_split\n",
    "X_train_neg_flatten = torch.from_numpy(X_train_neg_flatten).float()\n",
    "y_train_neg_flatten = torch.from_numpy(y_train_neg_flatten).float()\n",
    "\n",
    "# keep 10% of the data for validation\n",
    "X_train_neg_flatten, X_val_neg_flatten, y_train_neg_flatten, y_val_neg_flatten = train_test_split(\n",
    "    X_train_neg_flatten, y_train_neg_flatten, test_size=0.2, random_state=42\n",
    ")"
   ]
  },
  {
   "cell_type": "code",
   "execution_count": 94,
   "metadata": {},
   "outputs": [],
   "source": [
    "import torch\n",
    "import torch.nn as nn\n",
    "import torch.nn.functional as F\n",
    "import torch.optim as optim\n",
    "\n",
    "from torch.utils.data import DataLoader, TensorDataset\n",
    "\n",
    "import torchvision\n",
    "import torchvision.transforms as transforms\n",
    "\n",
    "class VAE(nn.Module):\n",
    "    def __init__(self, latent_dim=10, img_size=2048):\n",
    "        super(VAE, self).__init__()\n",
    "\n",
    "        self.latent_dim = latent_dim\n",
    "        self.img_size = img_size\n",
    "\n",
    "        self.fc1 = nn.Linear(self.img_size, 512)\n",
    "        self.fc21 = nn.Linear(512, self.latent_dim)\n",
    "        self.fc22 = nn.Linear(512, self.latent_dim)\n",
    "        self.fc3 = nn.Linear(self.latent_dim, 512)\n",
    "        self.fc4 = nn.Linear(512, self.img_size)\n",
    "\n",
    "    def encode(self, x):\n",
    "        h1 = F.relu(self.fc1(x))\n",
    "        return self.fc21(h1), self.fc22(h1)\n",
    "\n",
    "    def reparameterize(self, mu, logvar):\n",
    "        std = torch.exp(0.5*logvar)\n",
    "        eps = torch.randn_like(std)\n",
    "        return mu + eps*std\n",
    "\n",
    "    def decode(self, z):\n",
    "        h3 = F.relu(self.fc3(z))\n",
    "        return torch.sigmoid(self.fc4(h3))\n",
    "\n",
    "    def forward(self, x):\n",
    "        mu, logvar = self.encode(x)\n",
    "        z = self.reparameterize(mu, logvar)\n",
    "        return self.decode(z), mu, logvar\n",
    "\n",
    "\n",
    "def loss_function(recon_x, x, mu, logvar):\n",
    "    MSE = F.mse_loss(recon_x, x, reduction='mean', )\n",
    "    KLD = -0.5 * torch.sum(1 + logvar - mu.pow(2) - logvar.exp()) * 1e-5\n",
    "    return MSE + KLD\n",
    "\n",
    "\n",
    "def train(model, device, optimizer, epoch, X_train, X_val):\n",
    "    model.train()\n",
    "    train_loss = 0\n",
    "    val_loss = 0\n",
    "    output = model(X_train)\n",
    "    output_val = model(X_val)\n",
    "\n",
    "    loss = loss_function(output[0], X_train, output[1], output[2])\n",
    "    loss_val = loss_function(output_val[0], X_val, output_val[1], output_val[2])\n",
    "    train_loss += loss.item()\n",
    "    val_loss += loss_val.item()\n",
    "\n",
    "    optimizer.zero_grad()\n",
    "    loss.backward()\n",
    "    optimizer.step()\n",
    "    return model, loss, train_loss, output, val_loss, output_val\n",
    "\n"
   ]
  },
  {
   "cell_type": "code",
   "execution_count": 111,
   "metadata": {},
   "outputs": [
    {
     "name": "stdout",
     "output_type": "stream",
     "text": [
      "Epoch: 1, Train Loss: 0.2903403639793396, Val Loss: 0.22846443951129913\n",
      "Epoch: 2, Train Loss: 0.23969215154647827, Val Loss: 0.2019197940826416\n",
      "Epoch: 3, Train Loss: 0.19172737002372742, Val Loss: 0.1769341081380844\n",
      "Epoch: 4, Train Loss: 0.16386084258556366, Val Loss: 0.15425708889961243\n",
      "Epoch: 5, Train Loss: 0.1420849859714508, Val Loss: 0.13303367793560028\n",
      "Epoch: 6, Train Loss: 0.12179629504680634, Val Loss: 0.11337373405694962\n",
      "Epoch: 7, Train Loss: 0.10333675146102905, Val Loss: 0.09656867384910583\n",
      "Epoch: 8, Train Loss: 0.08709676563739777, Val Loss: 0.08128529787063599\n",
      "Epoch: 9, Train Loss: 0.07292485982179642, Val Loss: 0.06816671788692474\n",
      "Epoch: 10, Train Loss: 0.06090696156024933, Val Loss: 0.05720384046435356\n",
      "Epoch: 11, Train Loss: 0.050922978669404984, Val Loss: 0.04755179584026337\n",
      "Epoch: 12, Train Loss: 0.04264470934867859, Val Loss: 0.04009610041975975\n",
      "Epoch: 13, Train Loss: 0.03590819612145424, Val Loss: 0.033280447125434875\n",
      "Epoch: 14, Train Loss: 0.03049287013709545, Val Loss: 0.028461189940571785\n",
      "Epoch: 15, Train Loss: 0.026190796867012978, Val Loss: 0.02440338023006916\n",
      "Epoch: 16, Train Loss: 0.022863326594233513, Val Loss: 0.021386420354247093\n",
      "Epoch: 17, Train Loss: 0.020163776353001595, Val Loss: 0.018593858927488327\n",
      "Epoch: 18, Train Loss: 0.01806837134063244, Val Loss: 0.016766326501965523\n",
      "Epoch: 19, Train Loss: 0.01639658957719803, Val Loss: 0.015217236243188381\n",
      "Epoch: 20, Train Loss: 0.01509176567196846, Val Loss: 0.013962378725409508\n",
      "Epoch: 21, Train Loss: 0.01412071380764246, Val Loss: 0.013117936439812183\n",
      "Epoch: 22, Train Loss: 0.01331339031457901, Val Loss: 0.012311523780226707\n",
      "Epoch: 23, Train Loss: 0.01267765462398529, Val Loss: 0.011752020567655563\n",
      "Epoch: 24, Train Loss: 0.01212730910629034, Val Loss: 0.011334912851452827\n",
      "Epoch: 25, Train Loss: 0.011694930493831635, Val Loss: 0.010998974554240704\n",
      "Epoch: 26, Train Loss: 0.011352934874594212, Val Loss: 0.010719823651015759\n",
      "Epoch: 27, Train Loss: 0.011075634509325027, Val Loss: 0.010521963238716125\n",
      "Epoch: 28, Train Loss: 0.010842891409993172, Val Loss: 0.010340558364987373\n",
      "Epoch: 29, Train Loss: 0.010653644800186157, Val Loss: 0.010196070186793804\n",
      "Epoch: 30, Train Loss: 0.010492457076907158, Val Loss: 0.010064872913062572\n",
      "Epoch: 31, Train Loss: 0.010354958474636078, Val Loss: 0.00996770802885294\n",
      "Epoch: 32, Train Loss: 0.010232985019683838, Val Loss: 0.009896661154925823\n",
      "Epoch: 33, Train Loss: 0.010129764676094055, Val Loss: 0.009816668927669525\n",
      "Epoch: 34, Train Loss: 0.01004096120595932, Val Loss: 0.009753675200045109\n",
      "Epoch: 35, Train Loss: 0.009962974116206169, Val Loss: 0.009696567431092262\n",
      "Epoch: 36, Train Loss: 0.00989233236759901, Val Loss: 0.009650102816522121\n",
      "Epoch: 37, Train Loss: 0.009826048277318478, Val Loss: 0.009595884010195732\n",
      "Epoch: 38, Train Loss: 0.009767469018697739, Val Loss: 0.009564770385622978\n",
      "Epoch: 39, Train Loss: 0.00971088744699955, Val Loss: 0.009528938680887222\n",
      "Epoch: 40, Train Loss: 0.009660109877586365, Val Loss: 0.00948564987629652\n",
      "Epoch: 41, Train Loss: 0.009613754227757454, Val Loss: 0.009454506449401379\n",
      "Epoch: 42, Train Loss: 0.009571881033480167, Val Loss: 0.009418957866728306\n",
      "Epoch: 43, Train Loss: 0.009533073753118515, Val Loss: 0.00941320601850748\n",
      "Epoch: 44, Train Loss: 0.009496976621448994, Val Loss: 0.009384730830788612\n",
      "Epoch: 45, Train Loss: 0.009460131637752056, Val Loss: 0.009355776943266392\n",
      "Epoch: 46, Train Loss: 0.009427170269191265, Val Loss: 0.009335840120911598\n",
      "Epoch: 47, Train Loss: 0.009399261325597763, Val Loss: 0.009314656257629395\n",
      "Epoch: 48, Train Loss: 0.009370574727654457, Val Loss: 0.00929274968802929\n",
      "Epoch: 49, Train Loss: 0.009341790340840816, Val Loss: 0.009269403293728828\n",
      "Epoch: 50, Train Loss: 0.00931340642273426, Val Loss: 0.009264837950468063\n"
     ]
    }
   ],
   "source": [
    "# train\n",
    "latent_dim = 100\n",
    "input_dim = 2048\n",
    "batch_size = 128\n",
    "lr = 0.001\n",
    "\n",
    "epochs = 50\n",
    "device = torch.device(\"cuda\" if torch.cuda.is_available() else \"cpu\")\n",
    "model = VAE(latent_dim=latent_dim, img_size=input_dim).to(device)\n",
    "\n",
    "optimizer = optim.Adam(model.parameters(), lr=lr)\n",
    "# select 5000 random samples for training\n",
    "batch_train = []\n",
    "for i in range(50000):\n",
    "    k = np.random.randint(0, X_train_neg_flatten.shape[0])\n",
    "    batch_train.append(X_train_neg_flatten[k])\n",
    "# select 1000 random samples for val\n",
    "batch_val = []\n",
    "for i in range(1000):\n",
    "    k = np.random.randint(0, X_train_neg_flatten.shape[0])\n",
    "    batch_val.append(X_train_neg_flatten[k])\n",
    "\n",
    "batch_train = torch.stack(batch_train)\n",
    "batch_val = torch.stack(batch_val)\n",
    "train_losses = []\n",
    "val_losses = []\n",
    "for epoch in range(1, epochs + 1):\n",
    "    model, loss, train_loss, output, val_loss, output_val = train(model, device, optimizer, epoch, batch_train, batch_val)\n",
    "    train_losses.append(train_loss)\n",
    "    val_losses.append(val_loss)\n",
    "    print(f\"Epoch: {epoch}, Train Loss: {train_loss}, Val Loss: {val_loss}\")"
   ]
  },
  {
   "cell_type": "code",
   "execution_count": 112,
   "metadata": {},
   "outputs": [
    {
     "data": {
      "image/png": "[encoded data removed]",
      "text/plain": [
       "<Figure size 432x288 with 1 Axes>"
      ]
     },
     "metadata": {
      "needs_background": "light"
     },
     "output_type": "display_data"
    }
   ],
   "source": [
    "# plot loss with log scale\n",
    "\n",
    "import matplotlib.pyplot as plt\n",
    "plt.plot(train_losses, label='train')\n",
    "plt.plot(val_losses, label='val')\n",
    "plt.yscale('log')\n",
    "plt.legend()\n",
    "plt.show()\n"
   ]
  },
  {
   "cell_type": "code",
   "execution_count": 113,
   "metadata": {},
   "outputs": [
    {
     "data": {
      "text/plain": [
       "<All keys matched successfully>"
      ]
     },
     "execution_count": 113,
     "metadata": {},
     "output_type": "execute_result"
    }
   ],
   "source": [
    "## save the model\n",
    "torch.save(model.state_dict(), \"model.pt\")\n",
    "\n",
    "## load the model\n",
    "model = VAE(latent_dim=latent_dim, img_size=input_dim).to(device)\n",
    "model.load_state_dict(torch.load(\"model.pt\"))"
   ]
  },
  {
   "cell_type": "code",
   "execution_count": 114,
   "metadata": {},
   "outputs": [
    {
     "name": "stderr",
     "output_type": "stream",
     "text": [
      "100%|██████████| 344/344 [04:47<00:00,  1.20it/s]\n"
     ]
    }
   ],
   "source": [
    "losses = []\n",
    "for i in tqdm(range(X_train.shape[0])):\n",
    "    X_train_pos_flatten = X_train[i]\n",
    "    X_train_pos_flatten = torch.from_numpy(X_train_pos_flatten).float()\n",
    "    X_train_pos_flatten = X_train_pos_flatten.to(device)\n",
    "    loss_i = []\n",
    "    for j in range(X_train_pos_flatten.shape[0]):\n",
    "        X_pred = model(X_train_pos_flatten[j])\n",
    "        loss = loss_function(X_pred[0], X_train_pos_flatten[j], X_pred[1], X_pred[2])\n",
    "        loss_i.append(loss.item())\n",
    "    loss_i = np.max(loss_i)\n",
    "    losses.append(loss_i)\n"
   ]
  },
  {
   "cell_type": "code",
   "execution_count": 120,
   "metadata": {},
   "outputs": [],
   "source": [
    "losses = np.array(losses)"
   ]
  },
  {
   "cell_type": "markdown",
   "metadata": {},
   "source": [
    "## 5-fold cross validation"
   ]
  },
  {
   "cell_type": "code",
   "execution_count": 121,
   "metadata": {
    "ExecuteTime": {
     "end_time": "2022-10-24T07:22:52.905566Z",
     "start_time": "2022-10-24T07:22:52.893435Z"
    }
   },
   "outputs": [
    {
     "name": "stdout",
     "output_type": "stream",
     "text": [
      "Training set specifications\n",
      "---------------------------\n",
      "344 unique samples\n",
      "305 unique patients\n",
      "3 unique centers\n"
     ]
    }
   ],
   "source": [
    "# /!\\ we perform splits at the patient level so that all samples from the same patient\n",
    "# are found in the same split\n",
    "\n",
    "patients_unique = np.unique(patients_train)\n",
    "y_unique = np.array(\n",
    "    [np.mean(y_train[patients_train == p]) for p in patients_unique]\n",
    ")\n",
    "centers_unique = np.array(\n",
    "    [centers_train[patients_train == p][0] for p in patients_unique]\n",
    ")\n",
    "\n",
    "print(\n",
    "    \"Training set specifications\\n\"\n",
    "    \"---------------------------\\n\"\n",
    "    f\"{len(X_train)} unique samples\\n\"\n",
    "    f\"{len(patients_unique)} unique patients\\n\"\n",
    "    f\"{len(np.unique(centers_unique))} unique centers\"\n",
    ")"
   ]
  },
  {
   "cell_type": "code",
   "execution_count": 122,
   "metadata": {},
   "outputs": [],
   "source": [
    "X_train_losses = losses.reshape(-1, 1)\n",
    "\n"
   ]
  },
  {
   "cell_type": "code",
   "execution_count": 123,
   "metadata": {
    "ExecuteTime": {
     "end_time": "2022-10-24T07:22:54.077640Z",
     "start_time": "2022-10-24T07:22:52.907331Z"
    }
   },
   "outputs": [
    {
     "name": "stdout",
     "output_type": "stream",
     "text": [
      "AUC on split 0 fold 0: 0.523\n",
      "AUC on split 0 fold 1: 0.534\n",
      "AUC on split 0 fold 2: 0.470\n",
      "AUC on split 0 fold 3: 0.581\n",
      "AUC on split 0 fold 4: 0.338\n",
      "----------------------------\n",
      "AUC on split 1 fold 0: 0.376\n",
      "AUC on split 1 fold 1: 0.555\n",
      "AUC on split 1 fold 2: 0.430\n",
      "AUC on split 1 fold 3: 0.603\n",
      "AUC on split 1 fold 4: 0.458\n",
      "----------------------------\n",
      "AUC on split 2 fold 0: 0.484\n",
      "AUC on split 2 fold 1: 0.589\n",
      "AUC on split 2 fold 2: 0.373\n",
      "AUC on split 2 fold 3: 0.498\n",
      "AUC on split 2 fold 4: 0.490\n",
      "----------------------------\n",
      "AUC on split 3 fold 0: 0.477\n",
      "AUC on split 3 fold 1: 0.571\n",
      "AUC on split 3 fold 2: 0.435\n",
      "AUC on split 3 fold 3: 0.398\n",
      "AUC on split 3 fold 4: 0.617\n",
      "----------------------------\n",
      "AUC on split 4 fold 0: 0.402\n",
      "AUC on split 4 fold 1: 0.557\n",
      "AUC on split 4 fold 2: 0.520\n",
      "AUC on split 4 fold 3: 0.580\n",
      "AUC on split 4 fold 4: 0.400\n",
      "----------------------------\n",
      "5-fold cross-validated AUC averaged over 5 repeats: 0.490 (0.079)\n"
     ]
    }
   ],
   "source": [
    "from xgboost import XGBClassifier\n",
    "\n",
    "aucs = []\n",
    "lrs = []\n",
    "# 5-fold CV is repeated 5 times with different random states\n",
    "for k in range(5):\n",
    "    kfold = StratifiedKFold(5, shuffle=True, random_state=k)\n",
    "    fold = 0\n",
    "    # split is performed at the patient-level\n",
    "    for train_idx_, val_idx_ in kfold.split(patients_unique, y_unique):\n",
    "        # retrieve the indexes of the samples corresponding to the\n",
    "        # patients in `train_idx_` and `test_idx_`\n",
    "        train_idx = np.arange(len(X_train_losses))[\n",
    "            pd.Series(patients_train).isin(patients_unique[train_idx_])\n",
    "        ]\n",
    "        val_idx = np.arange(len(X_train_losses))[\n",
    "            pd.Series(patients_train).isin(patients_unique[val_idx_])\n",
    "        ]\n",
    "        # set the training and validation folds\n",
    "        X_fold_train = X_train_losses[train_idx]\n",
    "        y_fold_train = y_train[train_idx]\n",
    "        X_fold_val = X_train_losses[val_idx]\n",
    "        y_fold_val = y_train[val_idx]\n",
    "        # instantiate the model\n",
    "        lr = LogisticRegression(C=0.01, solver=\"liblinear\")\n",
    "        # fit it\n",
    "        lr.fit(X_fold_train, y_fold_train)\n",
    "        # get the predictions (1-d probability)\n",
    "        preds_val = lr.predict_proba(X_fold_val)[:, 1]\n",
    "        # compute the AUC score using scikit-learn\n",
    "        auc = roc_auc_score(y_fold_val, preds_val)\n",
    "        print(f\"AUC on split {k} fold {fold}: {auc:.3f}\")\n",
    "        aucs.append(auc)\n",
    "        # add the logistic regression to the list of classifiers\n",
    "        lrs.append(lr)\n",
    "        fold += 1\n",
    "    print(\"----------------------------\")\n",
    "print(\n",
    "    f\"5-fold cross-validated AUC averaged over {k+1} repeats: \"\n",
    "    f\"{np.mean(aucs):.3f} ({np.std(aucs):.3f})\"\n",
    ")"
   ]
  },
  {
   "cell_type": "markdown",
   "metadata": {},
   "source": [
    "# Submission"
   ]
  },
  {
   "cell_type": "markdown",
   "metadata": {},
   "source": [
    "Now we evaluate the previous models trained through cross-validation so that to produce a submission file that can directly be uploaded on the data challenge platform."
   ]
  },
  {
   "cell_type": "markdown",
   "metadata": {},
   "source": [
    "## Data processing"
   ]
  },
  {
   "cell_type": "code",
   "execution_count": 25,
   "metadata": {
    "ExecuteTime": {
     "end_time": "2022-10-24T07:22:54.987815Z",
     "start_time": "2022-10-24T07:22:54.079916Z"
    }
   },
   "outputs": [
    {
     "name": "stderr",
     "output_type": "stream",
     "text": [
      "100%|██████████| 149/149 [00:01<00:00, 120.94it/s]\n"
     ]
    }
   ],
   "source": [
    "X_test = []\n",
    "\n",
    "# load the data from `df_test` (~ 1 minute)\n",
    "for sample in tqdm(df_test[\"Sample ID\"].values):\n",
    "    _features = np.load(test_features_dir / sample)\n",
    "    coordinates, features = _features[:, :3], _features[:, 3:]\n",
    "    X_test.append(np.mean(features, axis=0))\n",
    "\n",
    "X_test = np.array(X_test)"
   ]
  },
  {
   "cell_type": "markdown",
   "metadata": {
    "ExecuteTime": {
     "end_time": "2022-10-20T08:17:35.617554Z",
     "start_time": "2022-10-20T08:17:35.603562Z"
    }
   },
   "source": [
    "## Inference"
   ]
  },
  {
   "cell_type": "code",
   "execution_count": 26,
   "metadata": {
    "ExecuteTime": {
     "end_time": "2022-10-24T07:22:55.043255Z",
     "start_time": "2022-10-24T07:22:54.989274Z"
    }
   },
   "outputs": [
    {
     "ename": "NotFittedError",
     "evalue": "This LogisticRegression instance is not fitted yet. Call 'fit' with appropriate arguments before using this estimator.",
     "output_type": "error",
     "traceback": [
      "\u001b[0;31m---------------------------------------------------------------------------\u001b[0m",
      "\u001b[0;31mNotFittedError\u001b[0m                            Traceback (most recent call last)",
      "\u001b[1;32m/Users/clementdesroches/Documents/MINES_3A/owkin_data_challenge/supplementary_data/baseline.ipynb Cellule 20\u001b[0m in \u001b[0;36m<cell line: 3>\u001b[0;34m()\u001b[0m\n\u001b[1;32m      <a href='vscode-notebook-cell:/Users/clementdesroches/Documents/MINES_3A/owkin_data_challenge/supplementary_data/baseline.ipynb#X25sZmlsZQ%3D%3D?line=1'>2</a>\u001b[0m \u001b[39m# loop over the classifiers\u001b[39;00m\n\u001b[1;32m      <a href='vscode-notebook-cell:/Users/clementdesroches/Documents/MINES_3A/owkin_data_challenge/supplementary_data/baseline.ipynb#X25sZmlsZQ%3D%3D?line=2'>3</a>\u001b[0m \u001b[39mfor\u001b[39;00m lr \u001b[39min\u001b[39;00m lrs:\n\u001b[0;32m----> <a href='vscode-notebook-cell:/Users/clementdesroches/Documents/MINES_3A/owkin_data_challenge/supplementary_data/baseline.ipynb#X25sZmlsZQ%3D%3D?line=3'>4</a>\u001b[0m     preds_test \u001b[39m+\u001b[39m\u001b[39m=\u001b[39m lr\u001b[39m.\u001b[39;49mpredict_proba(X_test)[:, \u001b[39m1\u001b[39m]\n\u001b[1;32m      <a href='vscode-notebook-cell:/Users/clementdesroches/Documents/MINES_3A/owkin_data_challenge/supplementary_data/baseline.ipynb#X25sZmlsZQ%3D%3D?line=4'>5</a>\u001b[0m \u001b[39m# and take the average (ensembling technique)\u001b[39;00m\n\u001b[1;32m      <a href='vscode-notebook-cell:/Users/clementdesroches/Documents/MINES_3A/owkin_data_challenge/supplementary_data/baseline.ipynb#X25sZmlsZQ%3D%3D?line=5'>6</a>\u001b[0m preds_test \u001b[39m=\u001b[39m preds_test \u001b[39m/\u001b[39m \u001b[39mlen\u001b[39m(lrs)\n",
      "File \u001b[0;32m~/opt/anaconda3/lib/python3.9/site-packages/sklearn/linear_model/_logistic.py:1663\u001b[0m, in \u001b[0;36mLogisticRegression.predict_proba\u001b[0;34m(self, X)\u001b[0m\n\u001b[1;32m   1637\u001b[0m \u001b[39mdef\u001b[39;00m \u001b[39mpredict_proba\u001b[39m(\u001b[39mself\u001b[39m, X):\n\u001b[1;32m   1638\u001b[0m     \u001b[39m\"\"\"\u001b[39;00m\n\u001b[1;32m   1639\u001b[0m \u001b[39m    Probability estimates.\u001b[39;00m\n\u001b[1;32m   1640\u001b[0m \n\u001b[0;32m   (...)\u001b[0m\n\u001b[1;32m   1661\u001b[0m \u001b[39m        where classes are ordered as they are in ``self.classes_``.\u001b[39;00m\n\u001b[1;32m   1662\u001b[0m \u001b[39m    \"\"\"\u001b[39;00m\n\u001b[0;32m-> 1663\u001b[0m     check_is_fitted(\u001b[39mself\u001b[39;49m)\n\u001b[1;32m   1665\u001b[0m     ovr \u001b[39m=\u001b[39m \u001b[39mself\u001b[39m\u001b[39m.\u001b[39mmulti_class \u001b[39min\u001b[39;00m [\u001b[39m\"\u001b[39m\u001b[39movr\u001b[39m\u001b[39m\"\u001b[39m, \u001b[39m\"\u001b[39m\u001b[39mwarn\u001b[39m\u001b[39m\"\u001b[39m] \u001b[39mor\u001b[39;00m (\n\u001b[1;32m   1666\u001b[0m         \u001b[39mself\u001b[39m\u001b[39m.\u001b[39mmulti_class \u001b[39m==\u001b[39m \u001b[39m\"\u001b[39m\u001b[39mauto\u001b[39m\u001b[39m\"\u001b[39m\n\u001b[1;32m   1667\u001b[0m         \u001b[39mand\u001b[39;00m (\u001b[39mself\u001b[39m\u001b[39m.\u001b[39mclasses_\u001b[39m.\u001b[39msize \u001b[39m<\u001b[39m\u001b[39m=\u001b[39m \u001b[39m2\u001b[39m \u001b[39mor\u001b[39;00m \u001b[39mself\u001b[39m\u001b[39m.\u001b[39msolver \u001b[39m==\u001b[39m \u001b[39m\"\u001b[39m\u001b[39mliblinear\u001b[39m\u001b[39m\"\u001b[39m)\n\u001b[1;32m   1668\u001b[0m     )\n\u001b[1;32m   1669\u001b[0m     \u001b[39mif\u001b[39;00m ovr:\n",
      "File \u001b[0;32m~/opt/anaconda3/lib/python3.9/site-packages/sklearn/utils/validation.py:1222\u001b[0m, in \u001b[0;36mcheck_is_fitted\u001b[0;34m(estimator, attributes, msg, all_or_any)\u001b[0m\n\u001b[1;32m   1217\u001b[0m     fitted \u001b[39m=\u001b[39m [\n\u001b[1;32m   1218\u001b[0m         v \u001b[39mfor\u001b[39;00m v \u001b[39min\u001b[39;00m \u001b[39mvars\u001b[39m(estimator) \u001b[39mif\u001b[39;00m v\u001b[39m.\u001b[39mendswith(\u001b[39m\"\u001b[39m\u001b[39m_\u001b[39m\u001b[39m\"\u001b[39m) \u001b[39mand\u001b[39;00m \u001b[39mnot\u001b[39;00m v\u001b[39m.\u001b[39mstartswith(\u001b[39m\"\u001b[39m\u001b[39m__\u001b[39m\u001b[39m\"\u001b[39m)\n\u001b[1;32m   1219\u001b[0m     ]\n\u001b[1;32m   1221\u001b[0m \u001b[39mif\u001b[39;00m \u001b[39mnot\u001b[39;00m fitted:\n\u001b[0;32m-> 1222\u001b[0m     \u001b[39mraise\u001b[39;00m NotFittedError(msg \u001b[39m%\u001b[39m {\u001b[39m\"\u001b[39m\u001b[39mname\u001b[39m\u001b[39m\"\u001b[39m: \u001b[39mtype\u001b[39m(estimator)\u001b[39m.\u001b[39m\u001b[39m__name__\u001b[39m})\n",
      "\u001b[0;31mNotFittedError\u001b[0m: This LogisticRegression instance is not fitted yet. Call 'fit' with appropriate arguments before using this estimator."
     ]
    }
   ],
   "source": [
    "preds_test = 0\n",
    "# loop over the classifiers\n",
    "for lr in lrs:\n",
    "    preds_test += rf.predict_proba(X_test)[:, 1]\n",
    "# and take the average (ensembling technique)\n",
    "preds_test = preds_test / len(lrs)"
   ]
  },
  {
   "cell_type": "markdown",
   "metadata": {},
   "source": [
    "## Saving predictions"
   ]
  },
  {
   "cell_type": "code",
   "execution_count": null,
   "metadata": {
    "ExecuteTime": {
     "end_time": "2022-10-24T07:22:55.098571Z",
     "start_time": "2022-10-24T07:22:55.044975Z"
    }
   },
   "outputs": [
    {
     "data": {
      "text/html": [
       "<div>\n",
       "<style scoped>\n",
       "    .dataframe tbody tr th:only-of-type {\n",
       "        vertical-align: middle;\n",
       "    }\n",
       "\n",
       "    .dataframe tbody tr th {\n",
       "        vertical-align: top;\n",
       "    }\n",
       "\n",
       "    .dataframe thead th {\n",
       "        text-align: right;\n",
       "    }\n",
       "</style>\n",
       "<table border=\"1\" class=\"dataframe\">\n",
       "  <thead>\n",
       "    <tr style=\"text-align: right;\">\n",
       "      <th></th>\n",
       "      <th>Sample ID</th>\n",
       "      <th>Target</th>\n",
       "    </tr>\n",
       "  </thead>\n",
       "  <tbody>\n",
       "    <tr>\n",
       "      <th>0</th>\n",
       "      <td>ID_003.npy</td>\n",
       "      <td>0.423755</td>\n",
       "    </tr>\n",
       "    <tr>\n",
       "      <th>1</th>\n",
       "      <td>ID_004.npy</td>\n",
       "      <td>0.418803</td>\n",
       "    </tr>\n",
       "    <tr>\n",
       "      <th>2</th>\n",
       "      <td>ID_008.npy</td>\n",
       "      <td>0.414833</td>\n",
       "    </tr>\n",
       "    <tr>\n",
       "      <th>3</th>\n",
       "      <td>ID_009.npy</td>\n",
       "      <td>0.417029</td>\n",
       "    </tr>\n",
       "    <tr>\n",
       "      <th>4</th>\n",
       "      <td>ID_010.npy</td>\n",
       "      <td>0.384043</td>\n",
       "    </tr>\n",
       "  </tbody>\n",
       "</table>\n",
       "</div>"
      ],
      "text/plain": [
       "    Sample ID    Target\n",
       "0  ID_003.npy  0.423755\n",
       "1  ID_004.npy  0.418803\n",
       "2  ID_008.npy  0.414833\n",
       "3  ID_009.npy  0.417029\n",
       "4  ID_010.npy  0.384043"
      ]
     },
     "execution_count": 10,
     "metadata": {},
     "output_type": "execute_result"
    }
   ],
   "source": [
    "submission = pd.DataFrame(\n",
    "    {\"Sample ID\": df_test[\"Sample ID\"].values, \"Target\": preds_test}\n",
    ").sort_values(\n",
    "    \"Sample ID\"\n",
    ")  # extra step to sort the sample IDs\n",
    "\n",
    "# sanity checks\n",
    "assert all(submission[\"Target\"].between(0, 1)), \"`Target` values must be in [0, 1]\"\n",
    "assert submission.shape == (149, 2), \"Your submission file must be of shape (149, 2)\"\n",
    "assert list(submission.columns) == [\n",
    "    \"Sample ID\",\n",
    "    \"Target\",\n",
    "], \"Your submission file must have columns `Sample ID` and `Target`\"\n",
    "\n",
    "# save the submission as a csv file\n",
    "submission.to_csv(data_dir / \"benchmark_test_output.csv\", index=None)\n",
    "submission.head()"
   ]
  },
  {
   "cell_type": "markdown",
   "metadata": {},
   "source": [
    "# Dealing with images"
   ]
  },
  {
   "cell_type": "markdown",
   "metadata": {},
   "source": [
    "The following code aims to load and manipulate the images provided as part of  this challenge."
   ]
  },
  {
   "cell_type": "markdown",
   "metadata": {},
   "source": [
    "## Scanning images paths on disk"
   ]
  },
  {
   "cell_type": "markdown",
   "metadata": {},
   "source": [
    "This operation can take up to 5 minutes."
   ]
  },
  {
   "cell_type": "code",
   "execution_count": null,
   "metadata": {
    "ExecuteTime": {
     "end_time": "2022-10-24T07:23:00.263580Z",
     "start_time": "2022-10-24T07:22:55.100342Z"
    }
   },
   "outputs": [
    {
     "name": "stdout",
     "output_type": "stream",
     "text": [
      "Number of images\n",
      "-----------------\n",
      "Train: 0\n",
      "Test: 0\n",
      "Total: 0\n",
      "\n"
     ]
    }
   ],
   "source": [
    "train_images_dir = data_dir / \"train_input\" / \"images\"\n",
    "train_images_files = list(train_images_dir.rglob(\"*.jpg\"))\n",
    "\n",
    "test_images_dir = data_dir / \"test_input\" / \"images\"\n",
    "test_images_files = list(test_images_dir.rglob(\"*.jpg\"))\n",
    "\n",
    "print(\n",
    "    f\"Number of images\\n\"\n",
    "    \"-----------------\\n\"\n",
    "    f\"Train: {len(train_images_files)}\\n\" # 344 x 1000 = 344,000 tiles\n",
    "    f\"Test: {len(test_images_files)}\\n\"  # 149 x 1000 = 149,000 tiles\n",
    "    f\"Total: {len(train_images_files) + len(test_images_files)}\\n\"  # 493 x 1000 = 493,000 tiles\n",
    ")"
   ]
  },
  {
   "cell_type": "markdown",
   "metadata": {
    "ExecuteTime": {
     "end_time": "2022-10-20T10:16:48.078600Z",
     "start_time": "2022-10-20T10:16:47.948127Z"
    }
   },
   "source": [
    "## Reading"
   ]
  },
  {
   "cell_type": "markdown",
   "metadata": {},
   "source": [
    "Now we can load some of the `.jpg` images for a given sample, say `ID_001`."
   ]
  },
  {
   "cell_type": "code",
   "execution_count": null,
   "metadata": {
    "ExecuteTime": {
     "end_time": "2022-10-24T07:23:00.381225Z",
     "start_time": "2022-10-24T07:23:00.267047Z"
    }
   },
   "outputs": [],
   "source": [
    "ID_001_tiles = [p for p in train_images_files if 'ID_001' in p.name]"
   ]
  },
  {
   "cell_type": "code",
   "execution_count": null,
   "metadata": {
    "ExecuteTime": {
     "end_time": "2022-10-24T07:23:01.973155Z",
     "start_time": "2022-10-24T07:23:00.382760Z"
    }
   },
   "outputs": [
    {
     "data": {
      "image/png": "[encoded data removed]",
      "text/plain": [
       "<Figure size 864x864 with 25 Axes>"
      ]
     },
     "metadata": {
      "needs_background": "light"
     },
     "output_type": "display_data"
    }
   ],
   "source": [
    "fig, axes = plt.subplots(5, 5)\n",
    "fig.set_size_inches(12, 12)\n",
    "\n",
    "for i, img_file in enumerate(ID_001_tiles[:25]):\n",
    "    # get the metadata from the file path\n",
    "    _, metadata = str(img_file).split(\"tile_\")\n",
    "    id_tile, level, x, y = metadata[:-4].split(\"_\")\n",
    "    img = plt.imread(img_file)\n",
    "    ax = axes[i//5, i%5]\n",
    "    ax.imshow(img)\n",
    "    ax.set_xticks([])\n",
    "    ax.set_yticks([])\n",
    "    ax.set_title(f\"Tile {id_tile} ({x}, {y})\")\n",
    "plt.show()"
   ]
  },
  {
   "cell_type": "markdown",
   "metadata": {},
   "source": [
    "## Mapping with features"
   ]
  },
  {
   "cell_type": "markdown",
   "metadata": {},
   "source": [
    "Note that the coordinates in the features matrices and tiles number are aligned."
   ]
  },
  {
   "cell_type": "code",
   "execution_count": null,
   "metadata": {
    "ExecuteTime": {
     "end_time": "2022-10-24T07:23:01.984327Z",
     "start_time": "2022-10-24T07:23:01.974933Z"
    }
   },
   "outputs": [
    {
     "name": "stdout",
     "output_type": "stream",
     "text": [
      "xy features coordinates\n"
     ]
    },
    {
     "data": {
      "text/plain": [
       "array([[170,  43],\n",
       "       [245,  49],\n",
       "       [137, 128],\n",
       "       [218,  40],\n",
       "       [142, 117],\n",
       "       [129,  72],\n",
       "       [129,  88],\n",
       "       [164, 109],\n",
       "       [210,  39],\n",
       "       [222, 100]])"
      ]
     },
     "execution_count": 14,
     "metadata": {},
     "output_type": "execute_result"
    }
   ],
   "source": [
    "sample = \"ID_001.npy\"\n",
    "_features = np.load(train_features_dir / sample)\n",
    "coordinates, features = _features[:, :3], _features[:, 3:]\n",
    "print(\"xy features coordinates\")\n",
    "coordinates[:10, 1:].astype(int)"
   ]
  },
  {
   "cell_type": "code",
   "execution_count": null,
   "metadata": {
    "ExecuteTime": {
     "end_time": "2022-10-24T07:23:01.990342Z",
     "start_time": "2022-10-24T07:23:01.985926Z"
    }
   },
   "outputs": [
    {
     "name": "stdout",
     "output_type": "stream",
     "text": [
      "Tiles numbering and features coordinates\n",
      "\n"
     ]
    },
    {
     "data": {
      "text/plain": [
       "[]"
      ]
     },
     "execution_count": 15,
     "metadata": {},
     "output_type": "execute_result"
    }
   ],
   "source": [
    "print(\n",
    "    \"Tiles numbering and features coordinates\\n\"\n",
    ")\n",
    "[tile.name for tile in ID_001_tiles[:10]]"
   ]
  },
  {
   "cell_type": "code",
   "execution_count": null,
   "metadata": {},
   "outputs": [],
   "source": []
  }
 ],
 "metadata": {
  "kernelspec": {
   "display_name": "base",
   "language": "python",
   "name": "python3"
  },
  "language_info": {
   "codemirror_mode": {
    "name": "ipython",
    "version": 3
   },
   "file_extension": ".py",
   "mimetype": "text/x-python",
   "name": "python",
   "nbconvert_exporter": "python",
   "pygments_lexer": "ipython3",
   "version": "3.9.12"
  },
  "latex_envs": {
   "LaTeX_envs_menu_present": true,
   "autoclose": false,
   "autocomplete": true,
   "bibliofile": "biblio.bib",
   "cite_by": "apalike",
   "current_citInitial": 1,
   "eqLabelWithNumbers": true,
   "eqNumInitial": 1,
   "hotkeys": {
    "equation": "Ctrl-E",
    "itemize": "Ctrl-I"
   },
   "labels_anchors": false,
   "latex_user_defs": false,
   "report_style_numbering": false,
   "user_envs_cfg": false
  },
  "toc": {
   "base_numbering": 1,
   "nav_menu": {},
   "number_sections": false,
   "sideBar": true,
   "skip_h1_title": false,
   "title_cell": "Table of Contents",
   "title_sidebar": "Contents",
   "toc_cell": false,
   "toc_position": {},
   "toc_section_display": true,
   "toc_window_display": false
  },
  "vscode": {
   "interpreter": {
    "hash": "6219597631ec1401981f1fdc620c5b968a7bfbf3673913593fb1c893a41e4615"
   }
  }
 },
 "nbformat": 4,
 "nbformat_minor": 2
}
